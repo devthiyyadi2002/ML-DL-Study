{
 "cells": [
  {
   "cell_type": "markdown",
   "id": "d4f98ddf",
   "metadata": {},
   "source": [
    "### House Price Prediction with MLFLOW \n",
    "\n",
    "outcomes of this project : <br>\n",
    "\n",
    "-> Run a hyper parameter tuning while training a model <br>\n",
    "-> Log every Hyperparameter and metrics in the MLFlow UI <br>\n",
    "-> Compare the results of the various runs in the MLFlow UI <br>\n",
    "-> Choose the best run and register it as a model"
   ]
  },
  {
   "cell_type": "code",
   "execution_count": 2,
   "id": "280f6f85",
   "metadata": {},
   "outputs": [
    {
     "name": "stdout",
     "output_type": "stream",
     "text": [
      "{'data': array([[   8.3252    ,   41.        ,    6.98412698, ...,    2.55555556,\n",
      "          37.88      , -122.23      ],\n",
      "       [   8.3014    ,   21.        ,    6.23813708, ...,    2.10984183,\n",
      "          37.86      , -122.22      ],\n",
      "       [   7.2574    ,   52.        ,    8.28813559, ...,    2.80225989,\n",
      "          37.85      , -122.24      ],\n",
      "       ...,\n",
      "       [   1.7       ,   17.        ,    5.20554273, ...,    2.3256351 ,\n",
      "          39.43      , -121.22      ],\n",
      "       [   1.8672    ,   18.        ,    5.32951289, ...,    2.12320917,\n",
      "          39.43      , -121.32      ],\n",
      "       [   2.3886    ,   16.        ,    5.25471698, ...,    2.61698113,\n",
      "          39.37      , -121.24      ]], shape=(20640, 8)), 'target': array([4.526, 3.585, 3.521, ..., 0.923, 0.847, 0.894], shape=(20640,)), 'frame': None, 'target_names': ['MedHouseVal'], 'feature_names': ['MedInc', 'HouseAge', 'AveRooms', 'AveBedrms', 'Population', 'AveOccup', 'Latitude', 'Longitude'], 'DESCR': '.. _california_housing_dataset:\\n\\nCalifornia Housing dataset\\n--------------------------\\n\\n**Data Set Characteristics:**\\n\\n:Number of Instances: 20640\\n\\n:Number of Attributes: 8 numeric, predictive attributes and the target\\n\\n:Attribute Information:\\n    - MedInc        median income in block group\\n    - HouseAge      median house age in block group\\n    - AveRooms      average number of rooms per household\\n    - AveBedrms     average number of bedrooms per household\\n    - Population    block group population\\n    - AveOccup      average number of household members\\n    - Latitude      block group latitude\\n    - Longitude     block group longitude\\n\\n:Missing Attribute Values: None\\n\\nThis dataset was obtained from the StatLib repository.\\nhttps://www.dcc.fc.up.pt/~ltorgo/Regression/cal_housing.html\\n\\nThe target variable is the median house value for California districts,\\nexpressed in hundreds of thousands of dollars ($100,000).\\n\\nThis dataset was derived from the 1990 U.S. census, using one row per census\\nblock group. A block group is the smallest geographical unit for which the U.S.\\nCensus Bureau publishes sample data (a block group typically has a population\\nof 600 to 3,000 people).\\n\\nA household is a group of people residing within a home. Since the average\\nnumber of rooms and bedrooms in this dataset are provided per household, these\\ncolumns may take surprisingly large values for block groups with few households\\nand many empty houses, such as vacation resorts.\\n\\nIt can be downloaded/loaded using the\\n:func:`sklearn.datasets.fetch_california_housing` function.\\n\\n.. rubric:: References\\n\\n- Pace, R. Kelley and Ronald Barry, Sparse Spatial Autoregressions,\\n  Statistics and Probability Letters, 33:291-297, 1997.\\n'}\n"
     ]
    }
   ],
   "source": [
    "import pandas as pd \n",
    "import mlflow \n",
    "import mlflow.sklearn\n",
    "from sklearn.ensemble import RandomForestRegressor\n",
    "from sklearn.model_selection import train_test_split,GridSearchCV # using grid search cv for hyper parameter tuning \n",
    "from sklearn.metrics import mean_squared_error\n",
    "from sklearn.datasets import fetch_california_housing # calling the data set \n",
    "\n",
    "housing = fetch_california_housing()\n",
    "print(housing)\n"
   ]
  },
  {
   "cell_type": "code",
   "execution_count": 3,
   "id": "858dc97f",
   "metadata": {},
   "outputs": [
    {
     "data": {
      "application/vnd.microsoft.datawrangler.viewer.v0+json": {
       "columns": [
        {
         "name": "index",
         "rawType": "int64",
         "type": "integer"
        },
        {
         "name": "MedInc",
         "rawType": "float64",
         "type": "float"
        },
        {
         "name": "HouseAge",
         "rawType": "float64",
         "type": "float"
        },
        {
         "name": "AveRooms",
         "rawType": "float64",
         "type": "float"
        },
        {
         "name": "AveBedrms",
         "rawType": "float64",
         "type": "float"
        },
        {
         "name": "Population",
         "rawType": "float64",
         "type": "float"
        },
        {
         "name": "AveOccup",
         "rawType": "float64",
         "type": "float"
        },
        {
         "name": "Latitude",
         "rawType": "float64",
         "type": "float"
        },
        {
         "name": "Longitude",
         "rawType": "float64",
         "type": "float"
        },
        {
         "name": "Price",
         "rawType": "float64",
         "type": "float"
        }
       ],
       "ref": "0b0e959c-85e5-491a-83dc-7fe2dcfa688a",
       "rows": [
        [
         "0",
         "8.3252",
         "41.0",
         "6.984126984126984",
         "1.0238095238095237",
         "322.0",
         "2.5555555555555554",
         "37.88",
         "-122.23",
         "4.526"
        ],
        [
         "1",
         "8.3014",
         "21.0",
         "6.238137082601054",
         "0.9718804920913884",
         "2401.0",
         "2.109841827768014",
         "37.86",
         "-122.22",
         "3.585"
        ],
        [
         "2",
         "7.2574",
         "52.0",
         "8.288135593220339",
         "1.073446327683616",
         "496.0",
         "2.8022598870056497",
         "37.85",
         "-122.24",
         "3.521"
        ],
        [
         "3",
         "5.6431",
         "52.0",
         "5.8173515981735155",
         "1.0730593607305936",
         "558.0",
         "2.547945205479452",
         "37.85",
         "-122.25",
         "3.413"
        ],
        [
         "4",
         "3.8462",
         "52.0",
         "6.281853281853282",
         "1.0810810810810811",
         "565.0",
         "2.1814671814671813",
         "37.85",
         "-122.25",
         "3.422"
        ],
        [
         "5",
         "4.0368",
         "52.0",
         "4.761658031088083",
         "1.1036269430051813",
         "413.0",
         "2.139896373056995",
         "37.85",
         "-122.25",
         "2.697"
        ],
        [
         "6",
         "3.6591",
         "52.0",
         "4.9319066147859925",
         "0.9513618677042801",
         "1094.0",
         "2.1284046692607004",
         "37.84",
         "-122.25",
         "2.992"
        ],
        [
         "7",
         "3.12",
         "52.0",
         "4.797527047913447",
         "1.061823802163833",
         "1157.0",
         "1.7882534775888717",
         "37.84",
         "-122.25",
         "2.414"
        ],
        [
         "8",
         "2.0804",
         "42.0",
         "4.294117647058823",
         "1.1176470588235294",
         "1206.0",
         "2.026890756302521",
         "37.84",
         "-122.26",
         "2.267"
        ],
        [
         "9",
         "3.6912",
         "52.0",
         "4.970588235294118",
         "0.9901960784313726",
         "1551.0",
         "2.172268907563025",
         "37.84",
         "-122.25",
         "2.611"
        ],
        [
         "10",
         "3.2031",
         "52.0",
         "5.477611940298507",
         "1.0796019900497513",
         "910.0",
         "2.263681592039801",
         "37.85",
         "-122.26",
         "2.815"
        ],
        [
         "11",
         "3.2705",
         "52.0",
         "4.772479564032698",
         "1.0245231607629428",
         "1504.0",
         "2.0490463215258856",
         "37.85",
         "-122.26",
         "2.418"
        ],
        [
         "12",
         "3.075",
         "52.0",
         "5.322649572649572",
         "1.0128205128205128",
         "1098.0",
         "2.3461538461538463",
         "37.85",
         "-122.26",
         "2.135"
        ],
        [
         "13",
         "2.6736",
         "52.0",
         "4.0",
         "1.0977011494252873",
         "345.0",
         "1.9827586206896552",
         "37.84",
         "-122.26",
         "1.913"
        ],
        [
         "14",
         "1.9167",
         "52.0",
         "4.262903225806451",
         "1.0096774193548388",
         "1212.0",
         "1.9548387096774194",
         "37.85",
         "-122.26",
         "1.592"
        ],
        [
         "15",
         "2.125",
         "50.0",
         "4.242424242424242",
         "1.071969696969697",
         "697.0",
         "2.640151515151515",
         "37.85",
         "-122.26",
         "1.4"
        ],
        [
         "16",
         "2.775",
         "52.0",
         "5.9395770392749245",
         "1.0483383685800605",
         "793.0",
         "2.395770392749245",
         "37.85",
         "-122.27",
         "1.525"
        ],
        [
         "17",
         "2.1202",
         "52.0",
         "4.052805280528053",
         "0.966996699669967",
         "648.0",
         "2.1386138613861387",
         "37.85",
         "-122.27",
         "1.555"
        ],
        [
         "18",
         "1.9911",
         "50.0",
         "5.343675417661098",
         "1.0859188544152745",
         "990.0",
         "2.3627684964200477",
         "37.84",
         "-122.26",
         "1.587"
        ],
        [
         "19",
         "2.6033",
         "52.0",
         "5.465454545454546",
         "1.0836363636363637",
         "690.0",
         "2.5090909090909093",
         "37.84",
         "-122.27",
         "1.629"
        ],
        [
         "20",
         "1.3578",
         "40.0",
         "4.524096385542169",
         "1.108433734939759",
         "409.0",
         "2.463855421686747",
         "37.85",
         "-122.27",
         "1.475"
        ],
        [
         "21",
         "1.7135",
         "42.0",
         "4.478142076502732",
         "1.0027322404371584",
         "929.0",
         "2.5382513661202184",
         "37.85",
         "-122.27",
         "1.598"
        ],
        [
         "22",
         "1.725",
         "52.0",
         "5.096234309623431",
         "1.1317991631799162",
         "1015.0",
         "2.1234309623430963",
         "37.84",
         "-122.27",
         "1.139"
        ],
        [
         "23",
         "2.1806",
         "52.0",
         "5.193846153846154",
         "1.0369230769230768",
         "853.0",
         "2.624615384615385",
         "37.84",
         "-122.27",
         "0.997"
        ],
        [
         "24",
         "2.6",
         "52.0",
         "5.270142180094787",
         "1.0355450236966826",
         "1006.0",
         "2.3838862559241707",
         "37.84",
         "-122.27",
         "1.326"
        ],
        [
         "25",
         "2.4038",
         "41.0",
         "4.495798319327731",
         "1.0336134453781514",
         "317.0",
         "2.6638655462184873",
         "37.85",
         "-122.28",
         "1.075"
        ],
        [
         "26",
         "2.4597",
         "49.0",
         "4.7280334728033475",
         "1.0209205020920502",
         "607.0",
         "2.5397489539748954",
         "37.85",
         "-122.28",
         "0.938"
        ],
        [
         "27",
         "1.808",
         "52.0",
         "4.7808564231738035",
         "1.0604534005037782",
         "1102.0",
         "2.7758186397984885",
         "37.85",
         "-122.28",
         "1.055"
        ],
        [
         "28",
         "1.6424",
         "50.0",
         "4.40169133192389",
         "1.040169133192389",
         "1131.0",
         "2.3911205073995774",
         "37.84",
         "-122.28",
         "1.089"
        ],
        [
         "29",
         "1.6875",
         "52.0",
         "4.703225806451613",
         "1.032258064516129",
         "395.0",
         "2.5483870967741935",
         "37.84",
         "-122.28",
         "1.32"
        ],
        [
         "30",
         "1.9274",
         "49.0",
         "5.068783068783069",
         "1.1825396825396826",
         "863.0",
         "2.2830687830687832",
         "37.84",
         "-122.28",
         "1.223"
        ],
        [
         "31",
         "1.9615",
         "52.0",
         "4.882086167800454",
         "1.090702947845805",
         "1168.0",
         "2.6485260770975056",
         "37.84",
         "-122.28",
         "1.152"
        ],
        [
         "32",
         "1.7969",
         "48.0",
         "5.737313432835821",
         "1.2208955223880598",
         "1026.0",
         "3.062686567164179",
         "37.84",
         "-122.27",
         "1.104"
        ],
        [
         "33",
         "1.375",
         "49.0",
         "5.0303951367781155",
         "1.1124620060790273",
         "754.0",
         "2.291793313069909",
         "37.83",
         "-122.27",
         "1.049"
        ],
        [
         "34",
         "2.7303",
         "51.0",
         "4.972014925373134",
         "1.0708955223880596",
         "1258.0",
         "2.3470149253731343",
         "37.83",
         "-122.27",
         "1.097"
        ],
        [
         "35",
         "1.4861",
         "49.0",
         "4.6022727272727275",
         "1.0681818181818181",
         "570.0",
         "2.159090909090909",
         "37.83",
         "-122.27",
         "0.972"
        ],
        [
         "36",
         "1.0972",
         "48.0",
         "4.807486631016043",
         "1.1550802139037433",
         "987.0",
         "2.6390374331550803",
         "37.83",
         "-122.27",
         "1.045"
        ],
        [
         "37",
         "1.4103",
         "52.0",
         "3.7493796526054592",
         "0.967741935483871",
         "901.0",
         "2.235732009925558",
         "37.83",
         "-122.28",
         "1.039"
        ],
        [
         "38",
         "3.48",
         "52.0",
         "4.757281553398058",
         "1.0679611650485437",
         "689.0",
         "2.2297734627831716",
         "37.83",
         "-122.26",
         "1.914"
        ],
        [
         "39",
         "2.5898",
         "52.0",
         "3.4942528735632186",
         "1.0272988505747127",
         "1377.0",
         "1.978448275862069",
         "37.83",
         "-122.26",
         "1.76"
        ],
        [
         "40",
         "2.0978",
         "52.0",
         "4.215189873417722",
         "1.0607594936708862",
         "946.0",
         "2.3949367088607594",
         "37.83",
         "-122.26",
         "1.554"
        ],
        [
         "41",
         "1.2852",
         "51.0",
         "3.7590361445783134",
         "1.248995983935743",
         "517.0",
         "2.076305220883534",
         "37.83",
         "-122.26",
         "1.5"
        ],
        [
         "42",
         "1.025",
         "49.0",
         "3.7724867724867726",
         "1.0687830687830688",
         "462.0",
         "2.4444444444444446",
         "37.84",
         "-122.26",
         "1.188"
        ],
        [
         "43",
         "3.9643",
         "52.0",
         "4.797979797979798",
         "1.02020202020202",
         "467.0",
         "2.3585858585858586",
         "37.84",
         "-122.26",
         "1.888"
        ],
        [
         "44",
         "3.0125",
         "52.0",
         "4.941780821917808",
         "1.0650684931506849",
         "660.0",
         "2.26027397260274",
         "37.83",
         "-122.26",
         "1.844"
        ],
        [
         "45",
         "2.6768",
         "52.0",
         "4.335078534031414",
         "1.0994764397905759",
         "718.0",
         "1.8795811518324608",
         "37.83",
         "-122.26",
         "1.823"
        ],
        [
         "46",
         "2.026",
         "50.0",
         "3.700657894736842",
         "1.0592105263157894",
         "616.0",
         "2.026315789473684",
         "37.83",
         "-122.26",
         "1.425"
        ],
        [
         "47",
         "1.7348",
         "43.0",
         "3.9802371541501977",
         "1.233201581027668",
         "558.0",
         "2.205533596837945",
         "37.82",
         "-122.27",
         "1.375"
        ],
        [
         "48",
         "0.9506",
         "40.0",
         "3.9",
         "1.21875",
         "423.0",
         "2.64375",
         "37.82",
         "-122.26",
         "1.875"
        ],
        [
         "49",
         "1.775",
         "40.0",
         "2.6875",
         "1.0653409090909092",
         "700.0",
         "1.9886363636363635",
         "37.82",
         "-122.27",
         "1.125"
        ]
       ],
       "shape": {
        "columns": 9,
        "rows": 20640
       }
      },
      "text/html": [
       "<div>\n",
       "<style scoped>\n",
       "    .dataframe tbody tr th:only-of-type {\n",
       "        vertical-align: middle;\n",
       "    }\n",
       "\n",
       "    .dataframe tbody tr th {\n",
       "        vertical-align: top;\n",
       "    }\n",
       "\n",
       "    .dataframe thead th {\n",
       "        text-align: right;\n",
       "    }\n",
       "</style>\n",
       "<table border=\"1\" class=\"dataframe\">\n",
       "  <thead>\n",
       "    <tr style=\"text-align: right;\">\n",
       "      <th></th>\n",
       "      <th>MedInc</th>\n",
       "      <th>HouseAge</th>\n",
       "      <th>AveRooms</th>\n",
       "      <th>AveBedrms</th>\n",
       "      <th>Population</th>\n",
       "      <th>AveOccup</th>\n",
       "      <th>Latitude</th>\n",
       "      <th>Longitude</th>\n",
       "      <th>Price</th>\n",
       "    </tr>\n",
       "  </thead>\n",
       "  <tbody>\n",
       "    <tr>\n",
       "      <th>0</th>\n",
       "      <td>8.3252</td>\n",
       "      <td>41.0</td>\n",
       "      <td>6.984127</td>\n",
       "      <td>1.023810</td>\n",
       "      <td>322.0</td>\n",
       "      <td>2.555556</td>\n",
       "      <td>37.88</td>\n",
       "      <td>-122.23</td>\n",
       "      <td>4.526</td>\n",
       "    </tr>\n",
       "    <tr>\n",
       "      <th>1</th>\n",
       "      <td>8.3014</td>\n",
       "      <td>21.0</td>\n",
       "      <td>6.238137</td>\n",
       "      <td>0.971880</td>\n",
       "      <td>2401.0</td>\n",
       "      <td>2.109842</td>\n",
       "      <td>37.86</td>\n",
       "      <td>-122.22</td>\n",
       "      <td>3.585</td>\n",
       "    </tr>\n",
       "    <tr>\n",
       "      <th>2</th>\n",
       "      <td>7.2574</td>\n",
       "      <td>52.0</td>\n",
       "      <td>8.288136</td>\n",
       "      <td>1.073446</td>\n",
       "      <td>496.0</td>\n",
       "      <td>2.802260</td>\n",
       "      <td>37.85</td>\n",
       "      <td>-122.24</td>\n",
       "      <td>3.521</td>\n",
       "    </tr>\n",
       "    <tr>\n",
       "      <th>3</th>\n",
       "      <td>5.6431</td>\n",
       "      <td>52.0</td>\n",
       "      <td>5.817352</td>\n",
       "      <td>1.073059</td>\n",
       "      <td>558.0</td>\n",
       "      <td>2.547945</td>\n",
       "      <td>37.85</td>\n",
       "      <td>-122.25</td>\n",
       "      <td>3.413</td>\n",
       "    </tr>\n",
       "    <tr>\n",
       "      <th>4</th>\n",
       "      <td>3.8462</td>\n",
       "      <td>52.0</td>\n",
       "      <td>6.281853</td>\n",
       "      <td>1.081081</td>\n",
       "      <td>565.0</td>\n",
       "      <td>2.181467</td>\n",
       "      <td>37.85</td>\n",
       "      <td>-122.25</td>\n",
       "      <td>3.422</td>\n",
       "    </tr>\n",
       "    <tr>\n",
       "      <th>...</th>\n",
       "      <td>...</td>\n",
       "      <td>...</td>\n",
       "      <td>...</td>\n",
       "      <td>...</td>\n",
       "      <td>...</td>\n",
       "      <td>...</td>\n",
       "      <td>...</td>\n",
       "      <td>...</td>\n",
       "      <td>...</td>\n",
       "    </tr>\n",
       "    <tr>\n",
       "      <th>20635</th>\n",
       "      <td>1.5603</td>\n",
       "      <td>25.0</td>\n",
       "      <td>5.045455</td>\n",
       "      <td>1.133333</td>\n",
       "      <td>845.0</td>\n",
       "      <td>2.560606</td>\n",
       "      <td>39.48</td>\n",
       "      <td>-121.09</td>\n",
       "      <td>0.781</td>\n",
       "    </tr>\n",
       "    <tr>\n",
       "      <th>20636</th>\n",
       "      <td>2.5568</td>\n",
       "      <td>18.0</td>\n",
       "      <td>6.114035</td>\n",
       "      <td>1.315789</td>\n",
       "      <td>356.0</td>\n",
       "      <td>3.122807</td>\n",
       "      <td>39.49</td>\n",
       "      <td>-121.21</td>\n",
       "      <td>0.771</td>\n",
       "    </tr>\n",
       "    <tr>\n",
       "      <th>20637</th>\n",
       "      <td>1.7000</td>\n",
       "      <td>17.0</td>\n",
       "      <td>5.205543</td>\n",
       "      <td>1.120092</td>\n",
       "      <td>1007.0</td>\n",
       "      <td>2.325635</td>\n",
       "      <td>39.43</td>\n",
       "      <td>-121.22</td>\n",
       "      <td>0.923</td>\n",
       "    </tr>\n",
       "    <tr>\n",
       "      <th>20638</th>\n",
       "      <td>1.8672</td>\n",
       "      <td>18.0</td>\n",
       "      <td>5.329513</td>\n",
       "      <td>1.171920</td>\n",
       "      <td>741.0</td>\n",
       "      <td>2.123209</td>\n",
       "      <td>39.43</td>\n",
       "      <td>-121.32</td>\n",
       "      <td>0.847</td>\n",
       "    </tr>\n",
       "    <tr>\n",
       "      <th>20639</th>\n",
       "      <td>2.3886</td>\n",
       "      <td>16.0</td>\n",
       "      <td>5.254717</td>\n",
       "      <td>1.162264</td>\n",
       "      <td>1387.0</td>\n",
       "      <td>2.616981</td>\n",
       "      <td>39.37</td>\n",
       "      <td>-121.24</td>\n",
       "      <td>0.894</td>\n",
       "    </tr>\n",
       "  </tbody>\n",
       "</table>\n",
       "<p>20640 rows × 9 columns</p>\n",
       "</div>"
      ],
      "text/plain": [
       "       MedInc  HouseAge  AveRooms  AveBedrms  Population  AveOccup  Latitude  \\\n",
       "0      8.3252      41.0  6.984127   1.023810       322.0  2.555556     37.88   \n",
       "1      8.3014      21.0  6.238137   0.971880      2401.0  2.109842     37.86   \n",
       "2      7.2574      52.0  8.288136   1.073446       496.0  2.802260     37.85   \n",
       "3      5.6431      52.0  5.817352   1.073059       558.0  2.547945     37.85   \n",
       "4      3.8462      52.0  6.281853   1.081081       565.0  2.181467     37.85   \n",
       "...       ...       ...       ...        ...         ...       ...       ...   \n",
       "20635  1.5603      25.0  5.045455   1.133333       845.0  2.560606     39.48   \n",
       "20636  2.5568      18.0  6.114035   1.315789       356.0  3.122807     39.49   \n",
       "20637  1.7000      17.0  5.205543   1.120092      1007.0  2.325635     39.43   \n",
       "20638  1.8672      18.0  5.329513   1.171920       741.0  2.123209     39.43   \n",
       "20639  2.3886      16.0  5.254717   1.162264      1387.0  2.616981     39.37   \n",
       "\n",
       "       Longitude  Price  \n",
       "0        -122.23  4.526  \n",
       "1        -122.22  3.585  \n",
       "2        -122.24  3.521  \n",
       "3        -122.25  3.413  \n",
       "4        -122.25  3.422  \n",
       "...          ...    ...  \n",
       "20635    -121.09  0.781  \n",
       "20636    -121.21  0.771  \n",
       "20637    -121.22  0.923  \n",
       "20638    -121.32  0.847  \n",
       "20639    -121.24  0.894  \n",
       "\n",
       "[20640 rows x 9 columns]"
      ]
     },
     "execution_count": 3,
     "metadata": {},
     "output_type": "execute_result"
    }
   ],
   "source": [
    "## preparing the dataset \n",
    "\n",
    "df = pd.DataFrame(housing.data, columns = housing.feature_names)\n",
    "df['Price'] = housing.target\n",
    "df"
   ]
  },
  {
   "cell_type": "code",
   "execution_count": 4,
   "id": "a78864c1",
   "metadata": {},
   "outputs": [
    {
     "data": {
      "application/vnd.microsoft.datawrangler.viewer.v0+json": {
       "columns": [
        {
         "name": "index",
         "rawType": "object",
         "type": "string"
        },
        {
         "name": "0",
         "rawType": "bool",
         "type": "boolean"
        }
       ],
       "ref": "db3e3b7f-3ab4-4603-9631-ed08ea88b41a",
       "rows": [
        [
         "MedInc",
         "False"
        ],
        [
         "HouseAge",
         "False"
        ],
        [
         "AveRooms",
         "False"
        ],
        [
         "AveBedrms",
         "False"
        ],
        [
         "Population",
         "False"
        ],
        [
         "AveOccup",
         "False"
        ],
        [
         "Latitude",
         "False"
        ],
        [
         "Longitude",
         "False"
        ],
        [
         "Price",
         "False"
        ]
       ],
       "shape": {
        "columns": 1,
        "rows": 9
       }
      },
      "text/plain": [
       "MedInc        False\n",
       "HouseAge      False\n",
       "AveRooms      False\n",
       "AveBedrms     False\n",
       "Population    False\n",
       "AveOccup      False\n",
       "Latitude      False\n",
       "Longitude     False\n",
       "Price         False\n",
       "dtype: bool"
      ]
     },
     "execution_count": 4,
     "metadata": {},
     "output_type": "execute_result"
    }
   ],
   "source": [
    "df.isnull().any() # checking for null values "
   ]
  },
  {
   "cell_type": "markdown",
   "id": "8a392b7a",
   "metadata": {},
   "source": [
    "### Train Test Split, Model Hyper parameter tuning , MLFlow Experiments "
   ]
  },
  {
   "cell_type": "code",
   "execution_count": 5,
   "id": "f1495247",
   "metadata": {},
   "outputs": [
    {
     "name": "stdout",
     "output_type": "stream",
     "text": [
      "       MedInc  HouseAge  AveRooms  AveBedrms  Population  AveOccup  Latitude  \\\n",
      "0      8.3252      41.0  6.984127   1.023810       322.0  2.555556     37.88   \n",
      "1      8.3014      21.0  6.238137   0.971880      2401.0  2.109842     37.86   \n",
      "2      7.2574      52.0  8.288136   1.073446       496.0  2.802260     37.85   \n",
      "3      5.6431      52.0  5.817352   1.073059       558.0  2.547945     37.85   \n",
      "4      3.8462      52.0  6.281853   1.081081       565.0  2.181467     37.85   \n",
      "...       ...       ...       ...        ...         ...       ...       ...   \n",
      "20635  1.5603      25.0  5.045455   1.133333       845.0  2.560606     39.48   \n",
      "20636  2.5568      18.0  6.114035   1.315789       356.0  3.122807     39.49   \n",
      "20637  1.7000      17.0  5.205543   1.120092      1007.0  2.325635     39.43   \n",
      "20638  1.8672      18.0  5.329513   1.171920       741.0  2.123209     39.43   \n",
      "20639  2.3886      16.0  5.254717   1.162264      1387.0  2.616981     39.37   \n",
      "\n",
      "       Longitude  \n",
      "0        -122.23  \n",
      "1        -122.22  \n",
      "2        -122.24  \n",
      "3        -122.25  \n",
      "4        -122.25  \n",
      "...          ...  \n",
      "20635    -121.09  \n",
      "20636    -121.21  \n",
      "20637    -121.22  \n",
      "20638    -121.32  \n",
      "20639    -121.24  \n",
      "\n",
      "[20640 rows x 8 columns]\n",
      "0        4.526\n",
      "1        3.585\n",
      "2        3.521\n",
      "3        3.413\n",
      "4        3.422\n",
      "         ...  \n",
      "20635    0.781\n",
      "20636    0.771\n",
      "20637    0.923\n",
      "20638    0.847\n",
      "20639    0.894\n",
      "Name: Price, Length: 20640, dtype: float64\n"
     ]
    }
   ],
   "source": [
    "from urllib.parse import urlparse # will come in handy for mlflow\n",
    "df\n",
    "### Independent and dependent features \n",
    "\n",
    "x = df.drop(columns=[\"Price\"])\n",
    "y = df[\"Price\"]\n",
    "\n",
    "print(x)\n",
    "print(y)"
   ]
  },
  {
   "cell_type": "code",
   "execution_count": 6,
   "id": "194804b2",
   "metadata": {},
   "outputs": [],
   "source": [
    "# hyper parameter tuning usnig Gridsearch cv \n",
    "\n",
    "def hyperparameter_tuning(x_train,y_train,param_grid):\n",
    "    rf = RandomForestRegressor()\n",
    "    grid_search = GridSearchCV(estimator=rf,param_grid=param_grid,cv=3,n_jobs=-1,verbose=1,scoring = \"neg_mean_squared_error\")\n",
    "    grid_search.fit(x_train,y_train)\n",
    "    return grid_search"
   ]
  },
  {
   "cell_type": "code",
   "execution_count": 7,
   "id": "70144289",
   "metadata": {},
   "outputs": [
    {
     "name": "stdout",
     "output_type": "stream",
     "text": [
      "Fitting 3 folds for each of 24 candidates, totalling 72 fits\n"
     ]
    },
    {
     "name": "stderr",
     "output_type": "stream",
     "text": [
      "2025/10/21 15:36:10 WARNING mlflow.models.model: `artifact_path` is deprecated. Please use `name` instead.\n",
      "2025/10/21 15:36:17 WARNING mlflow.models.model: Model logged without a signature and input example. Please set `input_example` parameter when logging the model to auto infer the model signature.\n",
      "Successfully registered model 'Best Random Forest Model'.\n",
      "2025/10/21 15:36:24 INFO mlflow.store.model_registry.abstract_store: Waiting up to 300 seconds for model version to finish creation. Model name: Best Random Forest Model, version 1\n"
     ]
    },
    {
     "name": "stdout",
     "output_type": "stream",
     "text": [
      "Best Hyperparameters: {'max_depth': None, 'min_samples_leaf': 2, 'min_samples_split': 5, 'n_estimators': 200}\n",
      "Mean Squared Error: 0.23172976605288542\n"
     ]
    },
    {
     "name": "stderr",
     "output_type": "stream",
     "text": [
      "Created version '1' of model 'Best Random Forest Model'.\n"
     ]
    }
   ],
   "source": [
    "## splitting data into training and test sets\n",
    "\n",
    "x_train,x_test,y_train,y_test = train_test_split(x,y,test_size=0.2)\n",
    "\n",
    "from mlflow.models import infer_signature # to set the input and output\n",
    "signature = infer_signature(x_train,y_train) # \n",
    "\n",
    "## define the hyper parameter grid \n",
    "\n",
    "param_grid = {\n",
    "    'n_estimators' : [100,200], # controls the number of trees in an ensemble model\n",
    "    'max_depth' : [5,10,None], # this sets the maximum depth of each tree 5 is shollow and 10 might be a good fit , none means no limits and the tree grows untill all the leaves are pure risk of over fitting \n",
    "    'min_samples_split' : [2,5], # the max number of samples required to split a node \n",
    "    'min_samples_leaf' : [1,2] \n",
    "}\n",
    "\n",
    "## Start the MLFlow experiments\n",
    "\n",
    "with mlflow.start_run():\n",
    "    ## perform hyper parameter tuning \n",
    "    grid_search = hyperparameter_tuning(x_train,y_train,param_grid)\n",
    "    \n",
    "    # get the best model\n",
    "    best_model =  grid_search.best_estimator_\n",
    "    \n",
    "    #evaluate the best model \n",
    "    y_pred = best_model.predict(x_test)\n",
    "    mse = mean_squared_error(y_test,y_pred)\n",
    "    \n",
    "## log best parameters and metrics \n",
    "mlflow.log_param(\"best_n_estimators\",grid_search.best_params_['n_estimators'])\n",
    "mlflow.log_param(\"best_max_depth\",grid_search.best_params_['max_depth'])\n",
    "mlflow.log_param(\"best_min_samples_split\",grid_search.best_params_['min_samples_split'])\n",
    "mlflow.log_param(\"best_min_samples_leaf\",grid_search.best_params_['min_samples_leaf'])\n",
    "mlflow.log_metric(\"mse\",mse) # logging the error metric \n",
    "\n",
    "### tracking url\n",
    "mlflow.set_tracking_uri(uri = \"http://127.0.0.1:5000\")\n",
    "tracking_url_type_store = urlparse(mlflow.get_tracking_uri()).scheme # used to check if a uri to mlflow has been provided or not if no uri is provided it returns file that means it is pointing to this file \n",
    "\n",
    "if tracking_url_type_store !='file':\n",
    "    mlflow.sklearn.log_model(best_model,\"model\",registered_model_name=\"Best Random Forest Model\")\n",
    "else : \n",
    "    mlflow.sklearn.log_model(best_model,\"model\",signature = signature)\n",
    "\n",
    "print(f\"Best Hyperparameters: {grid_search.best_params_}\" )\n",
    "print(f\"Mean Squared Error: {mse}\")"
   ]
  }
 ],
 "metadata": {
  "kernelspec": {
   "display_name": ".venv",
   "language": "python",
   "name": "python3"
  },
  "language_info": {
   "codemirror_mode": {
    "name": "ipython",
    "version": 3
   },
   "file_extension": ".py",
   "mimetype": "text/x-python",
   "name": "python",
   "nbconvert_exporter": "python",
   "pygments_lexer": "ipython3",
   "version": "3.11.0"
  }
 },
 "nbformat": 4,
 "nbformat_minor": 5
}
