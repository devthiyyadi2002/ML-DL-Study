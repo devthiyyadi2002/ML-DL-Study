{
 "cells": [
  {
   "cell_type": "markdown",
   "id": "e2cf9611",
   "metadata": {},
   "source": [
    "### MLFLOW tracking server \n",
    "\n"
   ]
  },
  {
   "cell_type": "code",
   "execution_count": 4,
   "id": "6c6076d3",
   "metadata": {},
   "outputs": [],
   "source": [
    "import mlflow "
   ]
  },
  {
   "cell_type": "code",
   "execution_count": 3,
   "id": "5681c8b7",
   "metadata": {},
   "outputs": [],
   "source": [
    "mlflow.set_tracking_uri(\"http://127.0.0.1:5000\") # any experiments that is going to be tracked should be tracked in this url"
   ]
  },
  {
   "cell_type": "code",
   "execution_count": null,
   "id": "f1ba0654",
   "metadata": {},
   "outputs": [
    {
     "name": "stderr",
     "output_type": "stream",
     "text": [
      "2025/10/18 17:45:26 INFO mlflow.tracking.fluent: Experiment with name 'check loclhost connection' does not exist. Creating a new experiment.\n"
     ]
    },
    {
     "name": "stdout",
     "output_type": "stream",
     "text": [
      "🏃 View run clean-boar-618 at: http://127.0.0.1:5000/#/experiments/199764379689756679/runs/cee60ecb75394b01a26e84c96478e727\n",
      "🧪 View experiment at: http://127.0.0.1:5000/#/experiments/199764379689756679\n"
     ]
    }
   ],
   "source": [
    "mlflow.set_experiment(\"check loclhost connection\")\n",
    "\n",
    "with mlflow.start_run():\n",
    "    mlflow.log_metric(\"test\",1) # these commands are used to log data \n",
    "    mlflow.log_metric(\"Dev\",2)"
   ]
  },
  {
   "cell_type": "code",
   "execution_count": 6,
   "id": "39c038c1",
   "metadata": {},
   "outputs": [
    {
     "name": "stdout",
     "output_type": "stream",
     "text": [
      "🏃 View run gentle-mink-418 at: http://127.0.0.1:5000/#/experiments/199764379689756679/runs/35ed720234da472f8a2c85fe7bb4035b\n",
      "🧪 View experiment at: http://127.0.0.1:5000/#/experiments/199764379689756679\n"
     ]
    }
   ],
   "source": [
    "with mlflow.start_run():\n",
    "    mlflow.log_metric(\"test1\",1)\n",
    "    mlflow.log_metric(\"Dev1\",2)"
   ]
  }
 ],
 "metadata": {
  "kernelspec": {
   "display_name": ".venv",
   "language": "python",
   "name": "python3"
  },
  "language_info": {
   "codemirror_mode": {
    "name": "ipython",
    "version": 3
   },
   "file_extension": ".py",
   "mimetype": "text/x-python",
   "name": "python",
   "nbconvert_exporter": "python",
   "pygments_lexer": "ipython3",
   "version": "3.11.0"
  }
 },
 "nbformat": 4,
 "nbformat_minor": 5
}
