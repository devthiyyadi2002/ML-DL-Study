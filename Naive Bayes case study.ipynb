{
 "cells": [
  {
   "cell_type": "markdown",
   "id": "4225bee9",
   "metadata": {},
   "source": [
    "Naive Bayes Case Study"
   ]
  },
  {
   "cell_type": "code",
   "execution_count": 1,
   "id": "a0cd6f0f",
   "metadata": {},
   "outputs": [],
   "source": [
    "import numpy as np\n",
    "import pandas as pd \n",
    "import sklearn"
   ]
  },
  {
   "cell_type": "code",
   "execution_count": 2,
   "id": "49901af9",
   "metadata": {
    "vscode": {
     "languageId": "markdown"
    }
   },
   "outputs": [
    {
     "data": {
      "application/vnd.microsoft.datawrangler.viewer.v0+json": {
       "columns": [
        {
         "name": "index",
         "rawType": "int64",
         "type": "integer"
        },
        {
         "name": "Document",
         "rawType": "object",
         "type": "string"
        },
        {
         "name": "Class",
         "rawType": "object",
         "type": "string"
        }
       ],
       "conversionMethod": "pd.DataFrame",
       "ref": "0c1247e0-be56-4c52-8d71-4ec88263010e",
       "rows": [
        [
         "0",
         "Teclov is a great educational institution.",
         "education"
        ],
        [
         "1",
         "Educational greatness depends on ethics",
         "education"
        ],
        [
         "2",
         "A story of great ethics and educational greatness",
         "education"
        ],
        [
         "3",
         "Sholey is a great cinema",
         "cinema"
        ],
        [
         "4",
         "good movie depends on good story",
         "cinema"
        ]
       ],
       "shape": {
        "columns": 2,
        "rows": 5
       }
      },
      "text/html": [
       "<div>\n",
       "<style scoped>\n",
       "    .dataframe tbody tr th:only-of-type {\n",
       "        vertical-align: middle;\n",
       "    }\n",
       "\n",
       "    .dataframe tbody tr th {\n",
       "        vertical-align: top;\n",
       "    }\n",
       "\n",
       "    .dataframe thead th {\n",
       "        text-align: right;\n",
       "    }\n",
       "</style>\n",
       "<table border=\"1\" class=\"dataframe\">\n",
       "  <thead>\n",
       "    <tr style=\"text-align: right;\">\n",
       "      <th></th>\n",
       "      <th>Document</th>\n",
       "      <th>Class</th>\n",
       "    </tr>\n",
       "  </thead>\n",
       "  <tbody>\n",
       "    <tr>\n",
       "      <th>0</th>\n",
       "      <td>Teclov is a great educational institution.</td>\n",
       "      <td>education</td>\n",
       "    </tr>\n",
       "    <tr>\n",
       "      <th>1</th>\n",
       "      <td>Educational greatness depends on ethics</td>\n",
       "      <td>education</td>\n",
       "    </tr>\n",
       "    <tr>\n",
       "      <th>2</th>\n",
       "      <td>A story of great ethics and educational greatness</td>\n",
       "      <td>education</td>\n",
       "    </tr>\n",
       "    <tr>\n",
       "      <th>3</th>\n",
       "      <td>Sholey is a great cinema</td>\n",
       "      <td>cinema</td>\n",
       "    </tr>\n",
       "    <tr>\n",
       "      <th>4</th>\n",
       "      <td>good movie depends on good story</td>\n",
       "      <td>cinema</td>\n",
       "    </tr>\n",
       "  </tbody>\n",
       "</table>\n",
       "</div>"
      ],
      "text/plain": [
       "                                            Document      Class\n",
       "0         Teclov is a great educational institution.  education\n",
       "1            Educational greatness depends on ethics  education\n",
       "2  A story of great ethics and educational greatness  education\n",
       "3                           Sholey is a great cinema     cinema\n",
       "4                   good movie depends on good story     cinema"
      ]
     },
     "execution_count": 2,
     "metadata": {},
     "output_type": "execute_result"
    }
   ],
   "source": [
    "# Option 1: Use double backslashes otherwise the paths wont be proper\n",
    "docs = pd.read_csv(\"C:\\\\Users\\\\devth\\\\Documents\\\\VScode files\\\\Machine learning\\\\Bayes_casestu\\\\example_train1.csv\")\n",
    "# text in colomnn 1 and classfier in colomn 2\n",
    "docs"
   ]
  },
  {
   "cell_type": "code",
   "execution_count": 3,
   "id": "882cf314",
   "metadata": {
    "vscode": {
     "languageId": "markdown"
    }
   },
   "outputs": [
    {
     "data": {
      "application/vnd.microsoft.datawrangler.viewer.v0+json": {
       "columns": [
        {
         "name": "index",
         "rawType": "int64",
         "type": "integer"
        },
        {
         "name": "Document",
         "rawType": "object",
         "type": "string"
        },
        {
         "name": "Class",
         "rawType": "int64",
         "type": "integer"
        }
       ],
       "conversionMethod": "pd.DataFrame",
       "ref": "041b962e-e531-4a8e-af59-7cdb179919a2",
       "rows": [
        [
         "0",
         "Teclov is a great educational institution.",
         "1"
        ],
        [
         "1",
         "Educational greatness depends on ethics",
         "1"
        ],
        [
         "2",
         "A story of great ethics and educational greatness",
         "1"
        ],
        [
         "3",
         "Sholey is a great cinema",
         "0"
        ],
        [
         "4",
         "good movie depends on good story",
         "0"
        ]
       ],
       "shape": {
        "columns": 2,
        "rows": 5
       }
      },
      "text/html": [
       "<div>\n",
       "<style scoped>\n",
       "    .dataframe tbody tr th:only-of-type {\n",
       "        vertical-align: middle;\n",
       "    }\n",
       "\n",
       "    .dataframe tbody tr th {\n",
       "        vertical-align: top;\n",
       "    }\n",
       "\n",
       "    .dataframe thead th {\n",
       "        text-align: right;\n",
       "    }\n",
       "</style>\n",
       "<table border=\"1\" class=\"dataframe\">\n",
       "  <thead>\n",
       "    <tr style=\"text-align: right;\">\n",
       "      <th></th>\n",
       "      <th>Document</th>\n",
       "      <th>Class</th>\n",
       "    </tr>\n",
       "  </thead>\n",
       "  <tbody>\n",
       "    <tr>\n",
       "      <th>0</th>\n",
       "      <td>Teclov is a great educational institution.</td>\n",
       "      <td>1</td>\n",
       "    </tr>\n",
       "    <tr>\n",
       "      <th>1</th>\n",
       "      <td>Educational greatness depends on ethics</td>\n",
       "      <td>1</td>\n",
       "    </tr>\n",
       "    <tr>\n",
       "      <th>2</th>\n",
       "      <td>A story of great ethics and educational greatness</td>\n",
       "      <td>1</td>\n",
       "    </tr>\n",
       "    <tr>\n",
       "      <th>3</th>\n",
       "      <td>Sholey is a great cinema</td>\n",
       "      <td>0</td>\n",
       "    </tr>\n",
       "    <tr>\n",
       "      <th>4</th>\n",
       "      <td>good movie depends on good story</td>\n",
       "      <td>0</td>\n",
       "    </tr>\n",
       "  </tbody>\n",
       "</table>\n",
       "</div>"
      ],
      "text/plain": [
       "                                            Document  Class\n",
       "0         Teclov is a great educational institution.      1\n",
       "1            Educational greatness depends on ethics      1\n",
       "2  A story of great ethics and educational greatness      1\n",
       "3                           Sholey is a great cinema      0\n",
       "4                   good movie depends on good story      0"
      ]
     },
     "execution_count": 3,
     "metadata": {},
     "output_type": "execute_result"
    }
   ],
   "source": [
    "# converting the label to numerical values\n",
    "docs['Class'] = docs.Class.map({'cinema':0,'education':1})\n",
    "docs"
   ]
  },
  {
   "cell_type": "code",
   "execution_count": 4,
   "id": "c09e7042",
   "metadata": {
    "vscode": {
     "languageId": "markdown"
    }
   },
   "outputs": [
    {
     "name": "stdout",
     "output_type": "stream",
     "text": [
      "X\n",
      "['Teclov is a great educational institution.'\n",
      " 'Educational greatness depends on ethics'\n",
      " 'A story of great ethics and educational greatness'\n",
      " 'Sholey is a great cinema' 'good movie depends on good story']\n",
      "Y\n",
      "[1 1 1 0 0]\n"
     ]
    }
   ],
   "source": [
    "# converring the colomns into an array format each \n",
    "numpy_array = docs.to_numpy()\n",
    "X = numpy_array[:,0]\n",
    "Y = numpy_array[:,1] # the first one chooses the entire row and the second condition gives the number of colomns \n",
    "\n",
    "Y=Y.astype(\"int\") \n",
    "\n",
    "print('X')\n",
    "print(X)\n",
    "print('Y')\n",
    "print(Y)\n"
   ]
  },
  {
   "cell_type": "code",
   "execution_count": 5,
   "id": "0fbc4807",
   "metadata": {
    "vscode": {
     "languageId": "markdown"
    }
   },
   "outputs": [],
   "source": [
    "''' we have to now break down x into individual words and make a dictionary of unique words in the set This is called vectorization of words we have a function in skikit that enbles us to do the same \n",
    "\n",
    "create an object of CountVectorization() class '''\n",
    "\n",
    "\n",
    "from sklearn.feature_extraction.text import CountVectorizer\n",
    "vec = CountVectorizer()\n",
    "\n",
    "\n",
    "# used to convert it to a vector format"
   ]
  },
  {
   "cell_type": "code",
   "execution_count": 6,
   "id": "c58a007d",
   "metadata": {},
   "outputs": [
    {
     "data": {
      "text/plain": [
       "{'teclov': 15,\n",
       " 'is': 9,\n",
       " 'great': 6,\n",
       " 'educational': 3,\n",
       " 'institution': 8,\n",
       " 'greatness': 7,\n",
       " 'depends': 2,\n",
       " 'on': 12,\n",
       " 'ethics': 4,\n",
       " 'story': 14,\n",
       " 'of': 11,\n",
       " 'and': 0,\n",
       " 'sholey': 13,\n",
       " 'cinema': 1,\n",
       " 'good': 5,\n",
       " 'movie': 10}"
      ]
     },
     "execution_count": 6,
     "metadata": {},
     "output_type": "execute_result"
    }
   ],
   "source": [
    "# here vec is an object of class CountVectorizer. This has a method called fit() which converts a corpus of documents into vector of unique words as shown below \n",
    "\n",
    "vec.fit(X)\n",
    "vec.vocabulary_\n",
    "# the results show that the distinct words and how many times they occur in the output as a dictionary key value pair"
   ]
  },
  {
   "cell_type": "code",
   "execution_count": 18,
   "id": "772f9db3",
   "metadata": {},
   "outputs": [
    {
     "data": {
      "text/plain": [
       "{'teclov': 11,\n",
       " 'great': 5,\n",
       " 'educational': 2,\n",
       " 'institution': 7,\n",
       " 'greatness': 6,\n",
       " 'depends': 1,\n",
       " 'ethics': 3,\n",
       " 'story': 10,\n",
       " 'sholey': 9,\n",
       " 'cinema': 0,\n",
       " 'good': 4,\n",
       " 'movie': 8}"
      ]
     },
     "execution_count": 18,
     "metadata": {},
     "output_type": "execute_result"
    }
   ],
   "source": [
    "# stop words \n",
    "''' we can see a few trivial words like 'the', 'is', 'a' etc. which are not useful for our analysis. We can remove these words using the stop_words parameter of the CountVectorizer class.\n",
    "it can be initialized as follows:'''\n",
    "\n",
    "# removing the stop words\n",
    "vec = CountVectorizer(stop_words='english')\n",
    "vec.fit(X)\n",
    "vec.vocabulary_"
   ]
  },
  {
   "cell_type": "code",
   "execution_count": 9,
   "id": "ddad5672",
   "metadata": {},
   "outputs": [
    {
     "name": "stdout",
     "output_type": "stream",
     "text": [
      "['cinema' 'depends' 'educational' 'ethics' 'good' 'great' 'greatness'\n",
      " 'institution' 'movie' 'sholey' 'story' 'teclov']\n",
      "12\n"
     ]
    }
   ],
   "source": [
    "# another way of prnting the vocabulary\n",
    "print(vec.get_feature_names_out())\n",
    "print(len(vec.get_feature_names_out())) # this will give the number of unique words in the corpus"
   ]
  },
  {
   "cell_type": "code",
   "execution_count": 19,
   "id": "6638300f",
   "metadata": {},
   "outputs": [
    {
     "data": {
      "text/plain": [
       "<5x12 sparse matrix of type '<class 'numpy.int64'>'\n",
       "\twith 20 stored elements in Compressed Sparse Row format>"
      ]
     },
     "execution_count": 19,
     "metadata": {},
     "output_type": "execute_result"
    }
   ],
   "source": [
    "# so now to do classification we must represent all the documents with respec to these words in the form of features\n",
    "# every document will be converted to a feature vector representing presence of each of these words in the document. \n",
    "# lets convert each of our training documents in to a feature vector\n",
    "\n",
    "X_transformed = vec.transform(X)\n",
    "X_transformed\n",
    "#print(X_transformed)"
   ]
  },
  {
   "cell_type": "markdown",
   "id": "587cee60",
   "metadata": {},
   "source": [
    "We can see X_transformed is a 5x12 matrix. It has 5 rows for each of our 5 documents and 12 colomns each of one word of the dictionary which we just created. Let us print X_transformed"
   ]
  },
  {
   "cell_type": "code",
   "execution_count": 22,
   "id": "1b8f7af1",
   "metadata": {},
   "outputs": [
    {
     "name": "stdout",
     "output_type": "stream",
     "text": [
      "  (0, 2)\t1\n",
      "  (0, 5)\t1\n",
      "  (0, 7)\t1\n",
      "  (0, 11)\t1\n",
      "  (1, 1)\t1\n",
      "  (1, 2)\t1\n",
      "  (1, 3)\t1\n",
      "  (1, 6)\t1\n",
      "  (2, 2)\t1\n",
      "  (2, 3)\t1\n",
      "  (2, 5)\t1\n",
      "  (2, 6)\t1\n",
      "  (2, 10)\t1\n",
      "  (3, 0)\t1\n",
      "  (3, 5)\t1\n",
      "  (3, 9)\t1\n",
      "  (4, 1)\t1\n",
      "  (4, 4)\t2\n",
      "  (4, 8)\t1\n",
      "  (4, 10)\t1\n"
     ]
    }
   ],
   "source": [
    "print(X_transformed)"
   ]
  },
  {
   "cell_type": "code",
   "execution_count": null,
   "id": "9624e579",
   "metadata": {},
   "outputs": [
    {
     "name": "stdout",
     "output_type": "stream",
     "text": [
      "[[0 0 1 0 0 1 0 1 0 0 0 1]\n",
      " [0 1 1 1 0 0 1 0 0 0 0 0]\n",
      " [0 0 1 1 0 1 1 0 0 0 1 0]\n",
      " [1 0 0 0 0 1 0 0 0 1 0 0]\n",
      " [0 1 0 0 2 0 0 0 1 0 1 0]]\n"
     ]
    }
   ],
   "source": [
    "'''since X is converted into an array so we can just print to see it \n",
    "5 rows 12 colomns and each word that we have has been marked in it'''\n",
    "print(X)"
   ]
  },
  {
   "cell_type": "code",
   "execution_count": null,
   "id": "0113591b",
   "metadata": {},
   "outputs": [
    {
     "data": {
      "application/vnd.microsoft.datawrangler.viewer.v0+json": {
       "columns": [
        {
         "name": "index",
         "rawType": "int64",
         "type": "integer"
        },
        {
         "name": "cinema",
         "rawType": "int64",
         "type": "integer"
        },
        {
         "name": "depends",
         "rawType": "int64",
         "type": "integer"
        },
        {
         "name": "educational",
         "rawType": "int64",
         "type": "integer"
        },
        {
         "name": "ethics",
         "rawType": "int64",
         "type": "integer"
        },
        {
         "name": "good",
         "rawType": "int64",
         "type": "integer"
        },
        {
         "name": "great",
         "rawType": "int64",
         "type": "integer"
        },
        {
         "name": "greatness",
         "rawType": "int64",
         "type": "integer"
        },
        {
         "name": "institution",
         "rawType": "int64",
         "type": "integer"
        },
        {
         "name": "movie",
         "rawType": "int64",
         "type": "integer"
        },
        {
         "name": "sholey",
         "rawType": "int64",
         "type": "integer"
        },
        {
         "name": "story",
         "rawType": "int64",
         "type": "integer"
        },
        {
         "name": "teclov",
         "rawType": "int64",
         "type": "integer"
        }
       ],
       "conversionMethod": "pd.DataFrame",
       "ref": "d528678b-7d90-4710-b889-17c26e55d391",
       "rows": [
        [
         "0",
         "0",
         "0",
         "1",
         "0",
         "0",
         "1",
         "0",
         "1",
         "0",
         "0",
         "0",
         "1"
        ],
        [
         "1",
         "0",
         "1",
         "1",
         "1",
         "0",
         "0",
         "1",
         "0",
         "0",
         "0",
         "0",
         "0"
        ],
        [
         "2",
         "0",
         "0",
         "1",
         "1",
         "0",
         "1",
         "1",
         "0",
         "0",
         "0",
         "1",
         "0"
        ],
        [
         "3",
         "1",
         "0",
         "0",
         "0",
         "0",
         "1",
         "0",
         "0",
         "0",
         "1",
         "0",
         "0"
        ],
        [
         "4",
         "0",
         "1",
         "0",
         "0",
         "2",
         "0",
         "0",
         "0",
         "1",
         "0",
         "1",
         "0"
        ]
       ],
       "shape": {
        "columns": 12,
        "rows": 5
       }
      },
      "text/html": [
       "<div>\n",
       "<style scoped>\n",
       "    .dataframe tbody tr th:only-of-type {\n",
       "        vertical-align: middle;\n",
       "    }\n",
       "\n",
       "    .dataframe tbody tr th {\n",
       "        vertical-align: top;\n",
       "    }\n",
       "\n",
       "    .dataframe thead th {\n",
       "        text-align: right;\n",
       "    }\n",
       "</style>\n",
       "<table border=\"1\" class=\"dataframe\">\n",
       "  <thead>\n",
       "    <tr style=\"text-align: right;\">\n",
       "      <th></th>\n",
       "      <th>cinema</th>\n",
       "      <th>depends</th>\n",
       "      <th>educational</th>\n",
       "      <th>ethics</th>\n",
       "      <th>good</th>\n",
       "      <th>great</th>\n",
       "      <th>greatness</th>\n",
       "      <th>institution</th>\n",
       "      <th>movie</th>\n",
       "      <th>sholey</th>\n",
       "      <th>story</th>\n",
       "      <th>teclov</th>\n",
       "    </tr>\n",
       "  </thead>\n",
       "  <tbody>\n",
       "    <tr>\n",
       "      <th>0</th>\n",
       "      <td>0</td>\n",
       "      <td>0</td>\n",
       "      <td>1</td>\n",
       "      <td>0</td>\n",
       "      <td>0</td>\n",
       "      <td>1</td>\n",
       "      <td>0</td>\n",
       "      <td>1</td>\n",
       "      <td>0</td>\n",
       "      <td>0</td>\n",
       "      <td>0</td>\n",
       "      <td>1</td>\n",
       "    </tr>\n",
       "    <tr>\n",
       "      <th>1</th>\n",
       "      <td>0</td>\n",
       "      <td>1</td>\n",
       "      <td>1</td>\n",
       "      <td>1</td>\n",
       "      <td>0</td>\n",
       "      <td>0</td>\n",
       "      <td>1</td>\n",
       "      <td>0</td>\n",
       "      <td>0</td>\n",
       "      <td>0</td>\n",
       "      <td>0</td>\n",
       "      <td>0</td>\n",
       "    </tr>\n",
       "    <tr>\n",
       "      <th>2</th>\n",
       "      <td>0</td>\n",
       "      <td>0</td>\n",
       "      <td>1</td>\n",
       "      <td>1</td>\n",
       "      <td>0</td>\n",
       "      <td>1</td>\n",
       "      <td>1</td>\n",
       "      <td>0</td>\n",
       "      <td>0</td>\n",
       "      <td>0</td>\n",
       "      <td>1</td>\n",
       "      <td>0</td>\n",
       "    </tr>\n",
       "    <tr>\n",
       "      <th>3</th>\n",
       "      <td>1</td>\n",
       "      <td>0</td>\n",
       "      <td>0</td>\n",
       "      <td>0</td>\n",
       "      <td>0</td>\n",
       "      <td>1</td>\n",
       "      <td>0</td>\n",
       "      <td>0</td>\n",
       "      <td>0</td>\n",
       "      <td>1</td>\n",
       "      <td>0</td>\n",
       "      <td>0</td>\n",
       "    </tr>\n",
       "    <tr>\n",
       "      <th>4</th>\n",
       "      <td>0</td>\n",
       "      <td>1</td>\n",
       "      <td>0</td>\n",
       "      <td>0</td>\n",
       "      <td>2</td>\n",
       "      <td>0</td>\n",
       "      <td>0</td>\n",
       "      <td>0</td>\n",
       "      <td>1</td>\n",
       "      <td>0</td>\n",
       "      <td>1</td>\n",
       "      <td>0</td>\n",
       "    </tr>\n",
       "  </tbody>\n",
       "</table>\n",
       "</div>"
      ],
      "text/plain": [
       "   cinema  depends  educational  ethics  good  great  greatness  institution  \\\n",
       "0       0        0            1       0     0      1          0            1   \n",
       "1       0        1            1       1     0      0          1            0   \n",
       "2       0        0            1       1     0      1          1            0   \n",
       "3       1        0            0       0     0      1          0            0   \n",
       "4       0        1            0       0     2      0          0            0   \n",
       "\n",
       "   movie  sholey  story  teclov  \n",
       "0      0       0      0       1  \n",
       "1      0       0      0       0  \n",
       "2      0       0      1       0  \n",
       "3      0       1      0       0  \n",
       "4      1       0      1       0  "
      ]
     },
     "execution_count": 34,
     "metadata": {},
     "output_type": "execute_result"
    }
   ],
   "source": [
    "# to make a better representation of the data set we can convert it into a data from \n",
    "\n",
    "'''the way to covert the matrix to a data frame is as follows: \n",
    "pd.DataFrame(matrix,colomns=colomns)'''\n",
    "\n",
    "pd.DataFrame(X,columns=vec.get_feature_names_out())"
   ]
  },
  {
   "cell_type": "markdown",
   "id": "18809a98",
   "metadata": {},
   "source": [
    "We call vectorzation the general process of turning a collection of text in a document into numerical feature vectors. This specific strategy is called the \" Bag of Words \" representation. Documents are described by word occurencies while completely ignoring the relative position information of the words in the documents.\n",
    "\n",
    "The 4 steps to vectorization are as follows: \n",
    "\n",
    "1- import \n",
    "2- Instantiate \n",
    "3- Fit \n",
    "4- Transform "
   ]
  },
  {
   "cell_type": "code",
   "execution_count": 35,
   "id": "e3d9b923",
   "metadata": {},
   "outputs": [
    {
     "data": {
      "application/vnd.microsoft.datawrangler.viewer.v0+json": {
       "columns": [
        {
         "name": "index",
         "rawType": "int64",
         "type": "integer"
        },
        {
         "name": "Document",
         "rawType": "object",
         "type": "string"
        },
        {
         "name": "Class",
         "rawType": "object",
         "type": "string"
        }
       ],
       "conversionMethod": "pd.DataFrame",
       "ref": "ea497db7-ef32-4195-821f-222d41736956",
       "rows": [
        [
         "0",
         "very good educational institution.",
         "education"
        ]
       ],
       "shape": {
        "columns": 2,
        "rows": 1
       }
      },
      "text/html": [
       "<div>\n",
       "<style scoped>\n",
       "    .dataframe tbody tr th:only-of-type {\n",
       "        vertical-align: middle;\n",
       "    }\n",
       "\n",
       "    .dataframe tbody tr th {\n",
       "        vertical-align: top;\n",
       "    }\n",
       "\n",
       "    .dataframe thead th {\n",
       "        text-align: right;\n",
       "    }\n",
       "</style>\n",
       "<table border=\"1\" class=\"dataframe\">\n",
       "  <thead>\n",
       "    <tr style=\"text-align: right;\">\n",
       "      <th></th>\n",
       "      <th>Document</th>\n",
       "      <th>Class</th>\n",
       "    </tr>\n",
       "  </thead>\n",
       "  <tbody>\n",
       "    <tr>\n",
       "      <th>0</th>\n",
       "      <td>very good educational institution.</td>\n",
       "      <td>education</td>\n",
       "    </tr>\n",
       "  </tbody>\n",
       "</table>\n",
       "</div>"
      ],
      "text/plain": [
       "                             Document      Class\n",
       "0  very good educational institution.  education"
      ]
     },
     "execution_count": 35,
     "metadata": {},
     "output_type": "execute_result"
    }
   ],
   "source": [
    "test_docs = pd.read_csv(\"C:\\\\Users\\\\devth\\\\Documents\\\\VScode files\\\\Machine learning\\\\Bayes_casestu\\\\example_test.csv\")\n",
    "test_docs"
   ]
  },
  {
   "cell_type": "code",
   "execution_count": 37,
   "id": "9afb4b10",
   "metadata": {},
   "outputs": [
    {
     "data": {
      "application/vnd.microsoft.datawrangler.viewer.v0+json": {
       "columns": [
        {
         "name": "index",
         "rawType": "int64",
         "type": "integer"
        },
        {
         "name": "Document",
         "rawType": "object",
         "type": "string"
        },
        {
         "name": "Class",
         "rawType": "int64",
         "type": "integer"
        }
       ],
       "conversionMethod": "pd.DataFrame",
       "ref": "18ccbc7c-98a5-4095-a642-1c2f2a42cf67",
       "rows": [
        [
         "0",
         "very good educational institution.",
         "1"
        ]
       ],
       "shape": {
        "columns": 2,
        "rows": 1
       }
      },
      "text/html": [
       "<div>\n",
       "<style scoped>\n",
       "    .dataframe tbody tr th:only-of-type {\n",
       "        vertical-align: middle;\n",
       "    }\n",
       "\n",
       "    .dataframe tbody tr th {\n",
       "        vertical-align: top;\n",
       "    }\n",
       "\n",
       "    .dataframe thead th {\n",
       "        text-align: right;\n",
       "    }\n",
       "</style>\n",
       "<table border=\"1\" class=\"dataframe\">\n",
       "  <thead>\n",
       "    <tr style=\"text-align: right;\">\n",
       "      <th></th>\n",
       "      <th>Document</th>\n",
       "      <th>Class</th>\n",
       "    </tr>\n",
       "  </thead>\n",
       "  <tbody>\n",
       "    <tr>\n",
       "      <th>0</th>\n",
       "      <td>very good educational institution.</td>\n",
       "      <td>1</td>\n",
       "    </tr>\n",
       "  </tbody>\n",
       "</table>\n",
       "</div>"
      ],
      "text/plain": [
       "                             Document  Class\n",
       "0  very good educational institution.      1"
      ]
     },
     "execution_count": 37,
     "metadata": {},
     "output_type": "execute_result"
    }
   ],
   "source": [
    "# convert the labels into numerical variables \n",
    "\n",
    "test_docs['Class'] = test_docs.Class.map({'cinema':0,'education':1})\n",
    "test_docs"
   ]
  },
  {
   "cell_type": "code",
   "execution_count": 49,
   "id": "9a81d597",
   "metadata": {},
   "outputs": [
    {
     "data": {
      "text/plain": [
       "array([['very good educational institution.', 1]], dtype=object)"
      ]
     },
     "execution_count": 49,
     "metadata": {},
     "output_type": "execute_result"
    }
   ],
   "source": [
    "test_numpy_array = test_docs.to_numpy()\n",
    "test_numpy_array\n"
   ]
  },
  {
   "cell_type": "code",
   "execution_count": 46,
   "id": "0fc2856b",
   "metadata": {},
   "outputs": [
    {
     "name": "stdout",
     "output_type": "stream",
     "text": [
      "X_test: ['very good educational institution.']\n",
      "y_test: [1]\n"
     ]
    }
   ],
   "source": [
    "X_test = test_numpy_array[:,0]\n",
    "y_test = test_numpy_array[:,1]\n",
    "y_test = y_test.astype('int')\n",
    "print('X_test:', X_test)\n",
    "print('y_test:', y_test)"
   ]
  },
  {
   "cell_type": "code",
   "execution_count": 50,
   "id": "721f0da3",
   "metadata": {},
   "outputs": [
    {
     "name": "stdout",
     "output_type": "stream",
     "text": [
      "  (0, 2)\t1\n",
      "  (0, 4)\t1\n",
      "  (0, 7)\t1\n"
     ]
    }
   ],
   "source": [
    "# converitng to the vectorized matrix \n",
    "X_test_transformed = vec.transform(X_test)\n",
    "print(X_test_transformed)"
   ]
  },
  {
   "cell_type": "code",
   "execution_count": 51,
   "id": "43414037",
   "metadata": {},
   "outputs": [
    {
     "name": "stdout",
     "output_type": "stream",
     "text": [
      "[[0 0 1 0 1 0 0 1 0 0 0 0]]\n"
     ]
    }
   ],
   "source": [
    "X_test = X_test_transformed.toarray()\n",
    "print(X_test)"
   ]
  },
  {
   "cell_type": "markdown",
   "id": "4a5fcc38",
   "metadata": {},
   "source": [
    "*** Multinomial Naie Bayes***"
   ]
  },
  {
   "cell_type": "code",
   "execution_count": 52,
   "id": "a1ff0628",
   "metadata": {},
   "outputs": [
    {
     "data": {
      "text/plain": [
       "array([[0.32808399, 0.67191601]])"
      ]
     },
     "execution_count": 52,
     "metadata": {},
     "output_type": "execute_result"
    }
   ],
   "source": [
    "# nuilding multinomial NB model \n",
    "from sklearn.naive_bayes import MultinomialNB\n",
    "\n",
    "# instantiating NB class\n",
    "mnb = MultinomialNB()\n",
    "\n",
    "# fitting the model on training data \n",
    "\n",
    "mnb.fit(X,Y)\n",
    "\n",
    "# predicting the labels for test data\n",
    "mnb.predict_proba(X_test)"
   ]
  },
  {
   "cell_type": "code",
   "execution_count": null,
   "id": "eb55628d",
   "metadata": {},
   "outputs": [
    {
     "name": "stdout",
     "output_type": "stream",
     "text": [
      "probability of test document beloning to class CINEMA:  0.32808398950131207\n",
      "probability of test document beloning to class EDUCATION:  0.671916010498688\n"
     ]
    }
   ],
   "source": [
    "proba = mnb.predict_proba(X_test) # returns the probability of the sentences beloning to a certain class\n",
    "print(\"probability of test document beloning to class CINEMA: \",proba[0][0])    \n",
    "print(\"probability of test document beloning to class EDUCATION: \",proba[0][1])"
   ]
  },
  {
   "cell_type": "markdown",
   "id": "2bf8bbff",
   "metadata": {},
   "source": [
    "*** Bernoulli Naive Bayes ***"
   ]
  },
  {
   "cell_type": "code",
   "execution_count": 55,
   "id": "32212ff9",
   "metadata": {},
   "outputs": [
    {
     "name": "stdout",
     "output_type": "stream",
     "text": [
      "probability of test document beloning to class CINEMA:  0.23263740486986176\n",
      "probability of test document beloning to class EDUCATION:  0.7673625951301384\n"
     ]
    }
   ],
   "source": [
    "from sklearn.naive_bayes import BernoulliNB\n",
    "# instatntiating bernoulliNB class\n",
    "bnb = BernoulliNB()\n",
    "# fitting the model on training data\n",
    "bnb.fit(X,Y)\n",
    "# predicting the labels for test data\n",
    "y_pred = bnb.predict(X_test)\n",
    "proba = bnb.predict_proba(X_test) # returns the probability of the sentences beloning to a certain class\n",
    "print(\"probability of test document beloning to class CINEMA: \",proba[0][0])\n",
    "print(\"probability of test document beloning to class EDUCATION: \",proba[0][1])"
   ]
  }
 ],
 "metadata": {
  "kernelspec": {
   "display_name": "base",
   "language": "python",
   "name": "python3"
  },
  "language_info": {
   "codemirror_mode": {
    "name": "ipython",
    "version": 3
   },
   "file_extension": ".py",
   "mimetype": "text/x-python",
   "name": "python",
   "nbconvert_exporter": "python",
   "pygments_lexer": "ipython3",
   "version": "3.12.4"
  }
 },
 "nbformat": 4,
 "nbformat_minor": 5
}
