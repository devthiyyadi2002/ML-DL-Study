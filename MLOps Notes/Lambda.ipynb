{
 "cells": [
  {
   "cell_type": "markdown",
   "id": "4b215d67",
   "metadata": {},
   "source": [
    "Lambda Function \n",
    "\n",
    "Lambda functions are small anonymous functions defined using the lambda keyword. They can have any number of arguments but only one expression. They are commonly used for short operations or as arguments to higher-order functions.\n"
   ]
  },
  {
   "cell_type": "code",
   "execution_count": null,
   "id": "1beddb13",
   "metadata": {},
   "outputs": [
    {
     "name": "stdout",
     "output_type": "stream",
     "text": [
      "5\n",
      "5\n"
     ]
    }
   ],
   "source": [
    "# syntax\n",
    "\n",
    "#lambda arguments: expression\n",
    "\n",
    "# it is basically like a function without a name \n",
    "\n",
    "#eg \n",
    "\n",
    "def add(a,b):\n",
    "    return a+b\n",
    "\n",
    "print(add(2,3))\n",
    "\n",
    "# using lambda\n",
    "\n",
    "addition = lambda a,b:a+b\n",
    "\n",
    "print(addition(2,3))\n"
   ]
  },
  {
   "cell_type": "code",
   "execution_count": 8,
   "id": "da959422",
   "metadata": {},
   "outputs": [
    {
     "name": "stdout",
     "output_type": "stream",
     "text": [
      "False\n"
     ]
    },
    {
     "data": {
      "text/plain": [
       "False"
      ]
     },
     "execution_count": 8,
     "metadata": {},
     "output_type": "execute_result"
    }
   ],
   "source": [
    "# example 2\n",
    "\n",
    "def even(a):\n",
    "    if a%2==0:\n",
    "        return True\n",
    "    else :\n",
    "        return False \n",
    "\n",
    "print(even(3))\n",
    "\n",
    "\n",
    "func1 = lambda a:a%2==0\n",
    "\n",
    "func1(23)\n"
   ]
  },
  {
   "cell_type": "code",
   "execution_count": 11,
   "id": "b82d839c",
   "metadata": {},
   "outputs": [
    {
     "name": "stdout",
     "output_type": "stream",
     "text": [
      "4\n",
      "[1, 2, 3, 4, 5, 6]\n"
     ]
    }
   ],
   "source": [
    "# map() function - applies a function to all items in a list \n",
    "\n",
    "numbers = [1,2,3,4,5,6]\n",
    "\n",
    "def square(number):\n",
    "    return number**2 # for all elements wew have to write a for loop\n",
    "\n",
    "print(square(2))\n",
    " \n",
    "map(lambda x:x**2,numbers)\n",
    "\n",
    "print(numbers)\n",
    " "
   ]
  }
 ],
 "metadata": {
  "kernelspec": {
   "display_name": "ai_gen",
   "language": "python",
   "name": "python3"
  },
  "language_info": {
   "codemirror_mode": {
    "name": "ipython",
    "version": 3
   },
   "file_extension": ".py",
   "mimetype": "text/x-python",
   "name": "python",
   "nbconvert_exporter": "python",
   "pygments_lexer": "ipython3",
   "version": "3.11.0"
  }
 },
 "nbformat": 4,
 "nbformat_minor": 5
}
