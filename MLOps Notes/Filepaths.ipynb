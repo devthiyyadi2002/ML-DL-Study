{
 "cells": [
  {
   "cell_type": "markdown",
   "id": "17b3c2bd",
   "metadata": {},
   "source": [
    "OS Module\n"
   ]
  },
  {
   "cell_type": "code",
   "execution_count": 2,
   "id": "de28f55e",
   "metadata": {},
   "outputs": [
    {
     "name": "stdout",
     "output_type": "stream",
     "text": [
      "the current working directory is c:\\Users\\devth\\Documents\\MLOps Study\n"
     ]
    }
   ],
   "source": [
    "import os \n",
    "cwd = os.getcwd()\n",
    "print(f\"the current working directory is {cwd}\")"
   ]
  },
  {
   "cell_type": "code",
   "execution_count": null,
   "id": "7a67440d",
   "metadata": {},
   "outputs": [
    {
     "name": "stdout",
     "output_type": "stream",
     "text": [
      "Directorypackagehas been created\n"
     ]
    }
   ],
   "source": [
    "# create a new directory \n",
    "new_directory = 'package'\n",
    "os.mkdir(new_directory)\n",
    "\n",
    "print(f\"Directory{new_directory}has been created\")"
   ]
  },
  {
   "cell_type": "code",
   "execution_count": null,
   "id": "a10d9291",
   "metadata": {},
   "outputs": [
    {
     "name": "stdout",
     "output_type": "stream",
     "text": [
      "['.ipynb_checkpoints', '.venv', 'Filepaths.ipynb', 'Lambda.ipynb', 'Map.ipynb', 'mlops', 'package', 'Sets.ipynb']\n"
     ]
    }
   ],
   "source": [
    "# lsitinf files and directories \n",
    "\n",
    "items = os.listdir('.')\n",
    "print(items)  # prints all the files in the directory "
   ]
  },
  {
   "cell_type": "code",
   "execution_count": 6,
   "id": "db3c4add",
   "metadata": {},
   "outputs": [
    {
     "name": "stdout",
     "output_type": "stream",
     "text": [
      "folder\\file.txt\n"
     ]
    }
   ],
   "source": [
    "# joining paths ( very important )\n",
    "\n",
    "directory_name = \"folder\"\n",
    "file_name = \"file.txt\"\n",
    "\n",
    "full_path = os.path.join(directory_name,file_name)\n",
    "print(full_path)\n",
    " "
   ]
  },
  {
   "cell_type": "code",
   "execution_count": 7,
   "id": "c606185e",
   "metadata": {},
   "outputs": [
    {
     "name": "stdout",
     "output_type": "stream",
     "text": [
      "c:\\Users\\devth\\Documents\\MLOps Study\\folder\\file.txt\n"
     ]
    }
   ],
   "source": [
    "\n",
    "directory_name = \"folder\"\n",
    "file_name = \"file.txt\"\n",
    "\n",
    "full_path = os.path.join(os.getcwd(),directory_name,file_name)\n",
    "print(full_path)\n",
    " "
   ]
  },
  {
   "cell_type": "code",
   "execution_count": 9,
   "id": "792b45fa",
   "metadata": {},
   "outputs": [
    {
     "name": "stdout",
     "output_type": "stream",
     "text": [
      "The path example1.txt does not exist\n"
     ]
    }
   ],
   "source": [
    "path = \"example1.txt\"\n",
    "\n",
    "if os.path.exists(path):\n",
    "    print(f\"The path {path} exists\")\n",
    "else:\n",
    "    print(f\"The path {path} does not exist\")"
   ]
  },
  {
   "cell_type": "code",
   "execution_count": 11,
   "id": "3c29d2ed",
   "metadata": {},
   "outputs": [
    {
     "name": "stdout",
     "output_type": "stream",
     "text": [
      "example.txt does not exist\n"
     ]
    }
   ],
   "source": [
    "# checking if the path is a file or a directory \n",
    "\n",
    "path = 'example.txt'\n",
    "\n",
    "if os.path.isfile(path):\n",
    "    print(f\"The path {path} is a file\")\n",
    "elif os.path.isdir(path):\n",
    "    print(f\"The path {path} is a directory\")\n",
    "else:\n",
    "    print(f\"{path} does not exist\")"
   ]
  },
  {
   "cell_type": "code",
   "execution_count": 12,
   "id": "78c32ecc",
   "metadata": {},
   "outputs": [
    {
     "name": "stdout",
     "output_type": "stream",
     "text": [
      "c:\\Users\\devth\\Documents\\MLOps Study\\Sets.ipynb\n"
     ]
    }
   ],
   "source": [
    "# getting the complete path of the file \n",
    "\n",
    "relative_path = \"Sets.ipynb\"\n",
    "absolute_path = os.path.abspath(relative_path)\n",
    "print(absolute_path)"
   ]
  }
 ],
 "metadata": {
  "kernelspec": {
   "display_name": "ai_gen",
   "language": "python",
   "name": "python3"
  },
  "language_info": {
   "codemirror_mode": {
    "name": "ipython",
    "version": 3
   },
   "file_extension": ".py",
   "mimetype": "text/x-python",
   "name": "python",
   "nbconvert_exporter": "python",
   "pygments_lexer": "ipython3",
   "version": "3.11.0"
  }
 },
 "nbformat": 4,
 "nbformat_minor": 5
}
