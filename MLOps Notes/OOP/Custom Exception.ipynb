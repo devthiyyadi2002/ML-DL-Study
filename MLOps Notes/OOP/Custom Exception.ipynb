{
 "cells": [
  {
   "cell_type": "markdown",
   "id": "ca2bb2e2",
   "metadata": {},
   "source": [
    "Custom exception ( Raise and throw exception )"
   ]
  },
  {
   "cell_type": "code",
   "execution_count": 1,
   "id": "baf9244f",
   "metadata": {},
   "outputs": [],
   "source": [
    "class Error(Exception):\n",
    "    pass  # calling parent class from exceptions which is a predefined class \n",
    "\n",
    "\n",
    "class DOBexception(Error):\n",
    "    pass\n"
   ]
  },
  {
   "cell_type": "code",
   "execution_count": null,
   "id": "f61f68e4",
   "metadata": {},
   "outputs": [
    {
     "name": "stdout",
     "output_type": "stream",
     "text": [
      " sorry your age should be grater than 20 or less than 30\n"
     ]
    }
   ],
   "source": [
    "year = int(input(\"Enter the dob\"))\n",
    "age = 2024-year\n",
    "\n",
    "\n",
    "try:\n",
    "    if age<=30 and age>=20:\n",
    "        print(\"the age is valid so you can apply for the exams\")\n",
    "    else:\n",
    "        raise DOBexception\n",
    "    \n",
    "except DOBexception:\n",
    "    print(\" sorry your age should be grater than 20 or less than 30\")\n"
   ]
  }
 ],
 "metadata": {
  "kernelspec": {
   "display_name": "ai_gen",
   "language": "python",
   "name": "python3"
  },
  "language_info": {
   "codemirror_mode": {
    "name": "ipython",
    "version": 3
   },
   "file_extension": ".py",
   "mimetype": "text/x-python",
   "name": "python",
   "nbconvert_exporter": "python",
   "pygments_lexer": "ipython3",
   "version": "3.11.0"
  }
 },
 "nbformat": 4,
 "nbformat_minor": 5
}
