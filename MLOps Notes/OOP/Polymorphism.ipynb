{
 "cells": [
  {
   "cell_type": "markdown",
   "id": "235c7692",
   "metadata": {},
   "source": [
    "Polymorphism\n",
    "\n",
    "Polymorphism is a core concept in OOP that allows objects of different classes to be treated as objects of a common superclass. It provides a way to perform a single action in different forms. Polymorphism is typically achieved through method overriding and interfaces\n",
    "\n",
    "Polymorphism = multiple forms\n"
   ]
  },
  {
   "cell_type": "code",
   "execution_count": null,
   "id": "b26639e5",
   "metadata": {},
   "outputs": [
    {
     "name": "stdout",
     "output_type": "stream",
     "text": [
      "Woof\n",
      "Meow\n",
      "Woof\n"
     ]
    }
   ],
   "source": [
    "## Method overriding \n",
    "\n",
    "'''Method overriding allows a child class to provide a specific implementation of a method that is already defined in its parent class'''\n",
    "\n",
    "## Base Class \n",
    "\n",
    "class Animal: \n",
    "    def speak(self):\n",
    "        return \"sound of the animal\"\n",
    "\n",
    "# derivaed class 1\n",
    "\n",
    "class Dog(Animal):\n",
    "    def speak(self):\n",
    "        return \"Woof\"\n",
    "    \n",
    "# derived class 2\n",
    "\n",
    "class Cat(Animal):\n",
    "    def speak(self):\n",
    "        return \"Meow\"\n",
    "    \n",
    "    \n",
    "cat = Cat()\n",
    "dog = Dog()\n",
    "\n",
    "print(dog.speak())\n",
    "print(cat.speak())\n",
    "\n",
    "\n",
    "# function that defines polymorphism \n",
    "\n",
    "def animal_speak(animal): # here animal is the object that we have defined \n",
    "    print(animal.speak())\n",
    "    \n",
    "animal_speak(dog)"
   ]
  },
  {
   "cell_type": "code",
   "execution_count": null,
   "id": "e761fcb6",
   "metadata": {},
   "outputs": [
    {
     "name": "stdout",
     "output_type": "stream",
     "text": [
      "Area of <__main__.Circle object at 0x000002D253991710> is 50.24\n",
      "Area of <__main__.Rectangle object at 0x000002D253990750> is 12\n"
     ]
    }
   ],
   "source": [
    "# Polymorphism with functions and methods \n",
    "\n",
    "class Shape: \n",
    "    def area(self):\n",
    "        return \"This is the area of the shape\"\n",
    "\n",
    "# derived class 1 \n",
    "\n",
    "class Rectangle: \n",
    "    def __init__(self,width,height):\n",
    "        self.width = width \n",
    "        self.height = height \n",
    "    \n",
    "    def area(self):\n",
    "        return self.width*self.height\n",
    "\n",
    "# derived class 2 \n",
    "\n",
    "class Circle: \n",
    "    def __init__(self,radius):\n",
    "        self.radius = radius \n",
    "    def area(self):\n",
    "        return 3.14*(self.radius**2)\n",
    "    \n",
    "circle = Circle(4)\n",
    "rect = Rectangle(3,4)\n",
    "\n",
    "# function that demonstrates polymorphism \n",
    "\n",
    "def get_area(shape):\n",
    "    print(f\"Area of {shape} is {shape.area()}\")\n",
    "    \n",
    "get_area(circle)\n",
    "get_area(rect)"
   ]
  },
  {
   "cell_type": "code",
   "execution_count": null,
   "id": "a0ca2ce6",
   "metadata": {},
   "outputs": [],
   "source": [
    "# polymorphism with abstract base classes \n",
    "\n",
    "'''Abstract base classes (ABCs) are used to define common methods for a group of related objects.\n",
    "They can enforce that derived classes implement particular methods, promoting consistency across different implementations.'''"
   ]
  },
  {
   "cell_type": "code",
   "execution_count": 5,
   "id": "68bef79f",
   "metadata": {},
   "outputs": [
    {
     "name": "stdout",
     "output_type": "stream",
     "text": [
      "Car engine started\n",
      "Motorocycle engine has started\n"
     ]
    }
   ],
   "source": [
    "from abc import ABC, abstractmethod\n",
    "\n",
    "## defining an abstract class \n",
    "\n",
    "class Vehicle(ABC):\n",
    "    @abstractmethod \n",
    "    def start_engine(self):\n",
    "        pass\n",
    "    \n",
    "## derived class 1 \n",
    " \n",
    "class Car(Vehicle):\n",
    "    def start_engine(self):\n",
    "        return \"Car engine started\"\n",
    "    \n",
    "## derived class 2 \n",
    "\n",
    "class Motorcycle(Vehicle):\n",
    "    def start_engine(self):\n",
    "        return \"Motorocycle engine has started\"\n",
    "\n",
    "# create objects of car and motorcycle\n",
    "\n",
    "car = Car()\n",
    "motorcycle = Motorcycle()\\\n",
    "\n",
    "# function that displays polymorphism\n",
    "\n",
    "def vehic(vehicle):\n",
    "    print(vehicle.start_engine())\n",
    "    \n",
    "vehic(car)\n",
    "vehic(motorcycle)"
   ]
  },
  {
   "cell_type": "markdown",
   "id": "b604f850",
   "metadata": {},
   "source": [
    "Conclusion \n",
    "\n",
    "Polymprphism is a powerful feature of OOP that allows for flexibility and integration in code design. It enables a single function to handle objects of different classes, each with its own implementation of a method. By understanding and applying polymorphism, you can create more extensible and maintainable object-oriented progams."
   ]
  }
 ],
 "metadata": {
  "kernelspec": {
   "display_name": "ai_gen",
   "language": "python",
   "name": "python3"
  },
  "language_info": {
   "codemirror_mode": {
    "name": "ipython",
    "version": 3
   },
   "file_extension": ".py",
   "mimetype": "text/x-python",
   "name": "python",
   "nbconvert_exporter": "python",
   "pygments_lexer": "ipython3",
   "version": "3.11.0"
  }
 },
 "nbformat": 4,
 "nbformat_minor": 5
}
