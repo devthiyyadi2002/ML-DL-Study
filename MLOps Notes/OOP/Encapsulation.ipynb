{
 "cells": [
  {
   "cell_type": "markdown",
   "id": "66a8d836",
   "metadata": {},
   "source": [
    "Encapsulation and Abstraction \n",
    "\n",
    "Encapsulation and abstraction are two fundamental principles of OOP that helps in designing robust, maintainable, and reuseable code. Encapsulation involves bundling data and methods that operate on the data within a single unit, while abstraction involves hiding complex implementation details and exposing only the necessary features. \n",
    "\n",
    "Encapsulation \n",
    "\n",
    "Encapsulation is the concept of wrapping data ( variables ) and methods together as a single unit. It restricts direct access to some of the object's components, which is a means of preventing accidental interference and misuse of data.\n",
    "\n"
   ]
  },
  {
   "cell_type": "code",
   "execution_count": 2,
   "id": "fec900ca",
   "metadata": {},
   "outputs": [
    {
     "name": "stdout",
     "output_type": "stream",
     "text": [
      "Dev\n"
     ]
    }
   ],
   "source": [
    "## encapsulation with getter and setter method \n",
    "\n",
    "### 3 important access variables public, protected and private variables  or access modifiers\n",
    "\n",
    "class Person: \n",
    "    def __init__(self,name,age):\n",
    "        self.name = name # public variable \n",
    "        self.age = age # public variable \n",
    "\n",
    "person = Person(\"Dev\",23)\n",
    "print(person.name)"
   ]
  },
  {
   "cell_type": "code",
   "execution_count": 3,
   "id": "6d904013",
   "metadata": {},
   "outputs": [
    {
     "data": {
      "text/plain": [
       "['__class__',\n",
       " '__delattr__',\n",
       " '__dict__',\n",
       " '__dir__',\n",
       " '__doc__',\n",
       " '__eq__',\n",
       " '__format__',\n",
       " '__ge__',\n",
       " '__getattribute__',\n",
       " '__getstate__',\n",
       " '__gt__',\n",
       " '__hash__',\n",
       " '__init__',\n",
       " '__init_subclass__',\n",
       " '__le__',\n",
       " '__lt__',\n",
       " '__module__',\n",
       " '__ne__',\n",
       " '__new__',\n",
       " '__reduce__',\n",
       " '__reduce_ex__',\n",
       " '__repr__',\n",
       " '__setattr__',\n",
       " '__sizeof__',\n",
       " '__str__',\n",
       " '__subclasshook__',\n",
       " '__weakref__',\n",
       " 'age',\n",
       " 'name']"
      ]
     },
     "execution_count": 3,
     "metadata": {},
     "output_type": "execute_result"
    }
   ],
   "source": [
    "dir(person)"
   ]
  },
  {
   "cell_type": "code",
   "execution_count": null,
   "id": "638d29d7",
   "metadata": {},
   "outputs": [
    {
     "name": "stdout",
     "output_type": "stream",
     "text": [
      "Male\n",
      "There are two exceptiosn detected\n"
     ]
    }
   ],
   "source": [
    "class Person: \n",
    "    def __init__(self,name,age,gender):\n",
    "        self.__name = name # private variable \n",
    "        self.__age = age # private variable use doubble underscore to define one \"__\" in front of the variable\n",
    "        self.gender = gender # public\n",
    "\n",
    "person = Person(\"Dev\",23,\"Male\")\n",
    "print(person.gender)\n",
    "\n",
    "try: \n",
    "    print(person.__name)\n",
    "    print(person.__age)\n",
    "except: \n",
    "    print(\"There are two exceptions detected\")"
   ]
  },
  {
   "cell_type": "code",
   "execution_count": 9,
   "id": "5cf4ed1f",
   "metadata": {},
   "outputs": [
    {
     "data": {
      "text/plain": [
       "['_Person__age',\n",
       " '_Person__name',\n",
       " '__class__',\n",
       " '__delattr__',\n",
       " '__dict__',\n",
       " '__dir__',\n",
       " '__doc__',\n",
       " '__eq__',\n",
       " '__format__',\n",
       " '__ge__',\n",
       " '__getattribute__',\n",
       " '__getstate__',\n",
       " '__gt__',\n",
       " '__hash__',\n",
       " '__init__',\n",
       " '__init_subclass__',\n",
       " '__le__',\n",
       " '__lt__',\n",
       " '__module__',\n",
       " '__ne__',\n",
       " '__new__',\n",
       " '__reduce__',\n",
       " '__reduce_ex__',\n",
       " '__repr__',\n",
       " '__setattr__',\n",
       " '__sizeof__',\n",
       " '__str__',\n",
       " '__subclasshook__',\n",
       " '__weakref__',\n",
       " 'gender']"
      ]
     },
     "execution_count": 9,
     "metadata": {},
     "output_type": "execute_result"
    }
   ],
   "source": [
    "dir(person)"
   ]
  },
  {
   "cell_type": "code",
   "execution_count": null,
   "id": "6e355065",
   "metadata": {},
   "outputs": [
    {
     "name": "stdout",
     "output_type": "stream",
     "text": [
      "Male\n",
      "Dev\n",
      "23\n"
     ]
    }
   ],
   "source": [
    "# if you want to display private variable data use '_(name of the class) infront of private variable'\n",
    "\n",
    "class Person: \n",
    "    def __init__(self,name,age,gender):\n",
    "        self.__name = name # private variable \n",
    "        self.__age = age # private variable use doubble underscore to define one \"__\" in front of the variable\n",
    "        self.gender = gender # public\n",
    "\n",
    "person = Person(\"Dev\",23,\"Male\")\n",
    "print(person.gender)\n",
    "\n",
    "try: \n",
    "    print(person._Person__name)\n",
    "    print(person._Person__age)\n",
    "except: \n",
    "    print(\"There are two exceptions detected\")"
   ]
  },
  {
   "cell_type": "code",
   "execution_count": null,
   "id": "cc645c6f",
   "metadata": {},
   "outputs": [],
   "source": [
    "# private method has variables that cannot be accessed outside the class but can be accessed inside the class using the getter and setter method "
   ]
  },
  {
   "cell_type": "code",
   "execution_count": 19,
   "id": "6ea90605",
   "metadata": {},
   "outputs": [
    {
     "name": "stdout",
     "output_type": "stream",
     "text": [
      "Dev\n",
      "Dev\n",
      "23\n"
     ]
    }
   ],
   "source": [
    "\n",
    "class Person: \n",
    "    def __init__(self,name,age,gender):\n",
    "        self._name = name # protected variable \n",
    "        self._age = age # protected variable use single underscore to define one \"_\" in front of the variable\n",
    "        self.gender = gender # public\n",
    "\n",
    "# protected variables cannot be accessed outside the class but could be accessed inside derived classes \n",
    "# derived class \n",
    "\n",
    "class Employee(Person):\n",
    "    \n",
    "    def ___init__(self,name,age,gender):\n",
    "        super().__init__(name,age,gender)\n",
    "    \n",
    "employee = Employee(\"Dev\",23,\"Male\")\n",
    "print(employee._name)\n",
    "\n",
    "person = Person(\"Dev\",23,\"Male\")\n",
    "try: \n",
    "    print(person._name)\n",
    "    print(person._age)\n",
    "except: \n",
    "    print(\"There are two exceptions detected\")"
   ]
  }
 ],
 "metadata": {
  "kernelspec": {
   "display_name": "ai_gen",
   "language": "python",
   "name": "python3"
  },
  "language_info": {
   "codemirror_mode": {
    "name": "ipython",
    "version": 3
   },
   "file_extension": ".py",
   "mimetype": "text/x-python",
   "name": "python",
   "nbconvert_exporter": "python",
   "pygments_lexer": "ipython3",
   "version": "3.11.0"
  }
 },
 "nbformat": 4,
 "nbformat_minor": 5
}
