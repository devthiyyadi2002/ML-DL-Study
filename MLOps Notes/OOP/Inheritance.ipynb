{
 "cells": [
  {
   "cell_type": "markdown",
   "id": "3d5c1c6c",
   "metadata": {},
   "source": [
    "Inheritance in Python \n",
    "\n",
    "Inheritance is a fundamental concept in OOP that allows a class to inherit attributes and methods from another class. This lesson covers single inheritance and multiple inheritance, demonstrating how to create and use them in python."
   ]
  },
  {
   "cell_type": "code",
   "execution_count": 1,
   "id": "41c693ed",
   "metadata": {},
   "outputs": [],
   "source": [
    "## Inheritance example \n",
    "\n",
    "# Parent CLass \n",
    "\n",
    "class Car():\n",
    "    def __init__ (self,windows,doors, enginetype):\n",
    "        self.windows = windows \n",
    "        self.doors = doors \n",
    "        self.enginetype = enginetype\n",
    "    \n",
    "    def drive(self):\n",
    "        print(f\"The person will drive the {self.enginetype} car\")\n",
    "    \n"
   ]
  },
  {
   "cell_type": "code",
   "execution_count": 3,
   "id": "1d422c16",
   "metadata": {},
   "outputs": [
    {
     "name": "stdout",
     "output_type": "stream",
     "text": [
      "The person will drive the petrol car\n"
     ]
    }
   ],
   "source": [
    "car1 = Car(4,5,\"petrol\")\n",
    "car1.drive()"
   ]
  },
  {
   "cell_type": "code",
   "execution_count": null,
   "id": "e9513884",
   "metadata": {},
   "outputs": [],
   "source": [
    "# child class\n",
    "\n",
    "class Tesla(Car):\n",
    "    def __init__ (self,windows,doors,enginetype,is_selfdriving):\n",
    "        super().__init__(windows,doors,enginetype) # instead of defining the attributes from the parent class use this \n",
    "        self.is_selfdriving = is_selfdriving\n",
    "        \n",
    "    def selfdrive(self):\n",
    "        print(f\"Tesla supports self driving : {self.is_selfdriving}\")"
   ]
  },
  {
   "cell_type": "code",
   "execution_count": 11,
   "id": "55739915",
   "metadata": {},
   "outputs": [
    {
     "name": "stdout",
     "output_type": "stream",
     "text": [
      "Tesla supports self driving : True\n"
     ]
    }
   ],
   "source": [
    "tesla1 = Tesla(4,5,\"electric\",True)\n",
    "tesla1.selfdrive()"
   ]
  },
  {
   "cell_type": "code",
   "execution_count": 12,
   "id": "68756c50",
   "metadata": {},
   "outputs": [
    {
     "name": "stdout",
     "output_type": "stream",
     "text": [
      "The person will drive the electric car\n"
     ]
    }
   ],
   "source": [
    "tesla1.drive()"
   ]
  },
  {
   "cell_type": "code",
   "execution_count": 17,
   "id": "8f2a516d",
   "metadata": {},
   "outputs": [
    {
     "name": "stdout",
     "output_type": "stream",
     "text": [
      "Buddy say woof\n",
      "Owner : Dev\n"
     ]
    }
   ],
   "source": [
    "## Multiple inheritance \n",
    "# when a class inherits more than one base class \n",
    "# Base classs 1\n",
    "class Animal:\n",
    "    def __init__(self,name):\n",
    "        self.name = name\n",
    "    def speak(self):\n",
    "        print(\"Subclasses must implement this method\")\n",
    "# Base class 2 \n",
    "class Pet:\n",
    "    def __init__(self,owner):\n",
    "        self.owner = owner \n",
    "# Derived class \n",
    "\n",
    "class Dog(Animal,Pet):\n",
    "    def __init__(self,name,owner):\n",
    "        Animal.__init__(self,name)\n",
    "        Pet.__init__(self,owner) # need to initiate attributes this way when multiple inheritance\n",
    "        \n",
    "    def speak(self):\n",
    "        return f\"{self.name} say woof\"\n",
    "\n",
    "dog = Dog(\"Buddy\",\"Dev\")\n",
    "print(dog.speak())\n",
    "print(f\"Owner : {dog.owner}\")"
   ]
  }
 ],
 "metadata": {
  "kernelspec": {
   "display_name": "ai_gen",
   "language": "python",
   "name": "python3"
  },
  "language_info": {
   "codemirror_mode": {
    "name": "ipython",
    "version": 3
   },
   "file_extension": ".py",
   "mimetype": "text/x-python",
   "name": "python",
   "nbconvert_exporter": "python",
   "pygments_lexer": "ipython3",
   "version": "3.11.0"
  }
 },
 "nbformat": 4,
 "nbformat_minor": 5
}
