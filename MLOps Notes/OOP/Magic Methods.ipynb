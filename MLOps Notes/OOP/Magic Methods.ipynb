{
 "cells": [
  {
   "cell_type": "markdown",
   "id": "b97d6bcf",
   "metadata": {},
   "source": [
    "Magic Methods \n",
    "\n",
    "Magic methods in python also known as dunder methods ( double underscore methods ) are special methods that start and end with double underscores. These methods enable you to define the behavior of objects for built-in-operations, such as arithmetic operations, comparisons, and more.\n",
    "\n",
    "Magic Methods are predefined methods in python that you can override to chaneg the bahavior of your objects. Some common magic methods include: \n",
    "\n",
    "Some common magic methods include:  \n",
    "-> `__init__` : initializes a new instance of a class <br>\n",
    "-> `__str__` : returns a string representation of an object <br>\n",
    "-> `__repr__` : returns an official string representation of an object <br>\n",
    "-> `__len__` : returns the length of an object <br>\n",
    "-> `__getitem__` : gets an item from a container <br>\n",
    "-> `__setitem__` : sets an item in a container\n",
    "\n"
   ]
  },
  {
   "cell_type": "code",
   "execution_count": 3,
   "id": "679f5afe",
   "metadata": {},
   "outputs": [
    {
     "name": "stdout",
     "output_type": "stream",
     "text": [
      "<__main__.Person object at 0x000001EC10FE1E50>\n"
     ]
    }
   ],
   "source": [
    "# basic methods \n",
    "class Person:\n",
    "    def __init__(self,name,age):\n",
    "        self.name = name\n",
    "        self.age = age\n",
    "        \n",
    "person = Person(\"Dev\",23)\n",
    "\n",
    "print(person)\n"
   ]
  },
  {
   "cell_type": "code",
   "execution_count": 8,
   "id": "247cb9c1",
   "metadata": {},
   "outputs": [
    {
     "name": "stdout",
     "output_type": "stream",
     "text": [
      "Dev ,23 years old\n",
      "Dev,23\n"
     ]
    }
   ],
   "source": [
    "# to override the message output \"<__main__.Person object at 0x000001EC10FE1E50>\"\n",
    "\n",
    "# basic methods \n",
    "class Person:\n",
    "    def __init__(self,name,age):\n",
    "        self.name = name\n",
    "        self.age = age\n",
    "        \n",
    "    def __str__(self):\n",
    "        return f\"{self.name} ,{self.age} years old\"\n",
    "    \n",
    "    def __repr__(self):\n",
    "        return f\"{self.name},{self.age}\"\n",
    "        \n",
    "person = Person(\"Dev\",23)\n",
    "\n",
    "print(person)\n",
    "print(repr(person))\n"
   ]
  },
  {
   "cell_type": "code",
   "execution_count": 6,
   "id": "6ce12754",
   "metadata": {},
   "outputs": [],
   "source": [
    "# here we were able to change the default message output by str that was \"<__main__.Person object at 0x000001EC10FE1E50>\" to \"Dev ,23 years old\""
   ]
  }
 ],
 "metadata": {
  "kernelspec": {
   "display_name": "ai_gen",
   "language": "python",
   "name": "python3"
  },
  "language_info": {
   "codemirror_mode": {
    "name": "ipython",
    "version": 3
   },
   "file_extension": ".py",
   "mimetype": "text/x-python",
   "name": "python",
   "nbconvert_exporter": "python",
   "pygments_lexer": "ipython3",
   "version": "3.11.0"
  }
 },
 "nbformat": 4,
 "nbformat_minor": 5
}
