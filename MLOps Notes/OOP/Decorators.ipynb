{
 "cells": [
  {
   "cell_type": "markdown",
   "id": "e4d4502c",
   "metadata": {},
   "source": [
    "### Decorators \n",
    "\n",
    "Decorators are a powerful and flexible feature in python that allows you to modify the behavior of a function or class method. They are commonly used to add functionality to functions or methods without modifying their actual code."
   ]
  },
  {
   "cell_type": "code",
   "execution_count": null,
   "id": "dba849e0",
   "metadata": {},
   "outputs": [],
   "source": [
    "### function copy \n",
    "### closures "
   ]
  },
  {
   "cell_type": "code",
   "execution_count": 6,
   "id": "b6e36c1a",
   "metadata": {},
   "outputs": [
    {
     "data": {
      "text/plain": [
       "'Welcome to my notes'"
      ]
     },
     "execution_count": 6,
     "metadata": {},
     "output_type": "execute_result"
    }
   ],
   "source": [
    "# function copy \n",
    "\n",
    "def welcome():\n",
    "    return \"Welcome to my notes\"\n",
    "\n",
    "welcome()"
   ]
  },
  {
   "cell_type": "code",
   "execution_count": 7,
   "id": "544c6f07",
   "metadata": {},
   "outputs": [
    {
     "name": "stdout",
     "output_type": "stream",
     "text": [
      "Welcome to my notes\n",
      "Welcome to my notes\n"
     ]
    }
   ],
   "source": [
    "wel = welcome \n",
    "print(wel()) # this is called a function copy \n",
    "del welcome # deleting the welcome function to see if wel is a copy or not \n",
    "print(wel())"
   ]
  },
  {
   "cell_type": "code",
   "execution_count": null,
   "id": "a1cefe03",
   "metadata": {},
   "outputs": [],
   "source": [
    "### closures : function inside a function \n",
    "# anything declared in the outer function can be accessed inside the closure function\n",
    "\n",
    "def main_welcome():\n",
    "    msg = \"welcome\"\n",
    "    def sub_welcome_method():\n",
    "        print(\"Welcome to this notebook\")\n",
    "        print(msg)\n",
    "        print(\"Hello world\")\n",
    "    return sub_welcome_method()"
   ]
  },
  {
   "cell_type": "code",
   "execution_count": 15,
   "id": "096ca6cf",
   "metadata": {},
   "outputs": [
    {
     "name": "stdout",
     "output_type": "stream",
     "text": [
      "Welcome to this notebook\n",
      "welcome\n",
      "Hello world\n"
     ]
    }
   ],
   "source": [
    "main_welcome()"
   ]
  },
  {
   "cell_type": "code",
   "execution_count": 16,
   "id": "549d8ade",
   "metadata": {},
   "outputs": [],
   "source": [
    "\n",
    "def main_welcome(func):\n",
    "    def sub_welcome_method():\n",
    "        print(\"Welcome to this notebook\")\n",
    "        func()\n",
    "        print(\"Hello world\")\n",
    "    return sub_welcome_method()"
   ]
  },
  {
   "cell_type": "code",
   "execution_count": null,
   "id": "98d74034",
   "metadata": {},
   "outputs": [
    {
     "name": "stdout",
     "output_type": "stream",
     "text": [
      "Welcome to this notebook\n",
      "\n",
      "Hello world\n"
     ]
    }
   ],
   "source": [
    "main_welcome(print) # print is an inbuilt function that will print anything"
   ]
  },
  {
   "cell_type": "code",
   "execution_count": null,
   "id": "7e40fbfc",
   "metadata": {},
   "outputs": [
    {
     "name": "stdout",
     "output_type": "stream",
     "text": [
      "Welcome to this notebook\n",
      "welcome to the function\n",
      "Hello world\n"
     ]
    }
   ],
   "source": [
    "def main_welcome(func):\n",
    "    def sub_welcome_method():\n",
    "        print(\"Welcome to this notebook\")\n",
    "        func(\"welcome to the function\")\n",
    "        print(\"Hello world\")\n",
    "    return sub_welcome_method()\n",
    "\n",
    "main_welcome(print) # print replaces func so it basically becomes print(\"Welcome to the function\")"
   ]
  },
  {
   "cell_type": "code",
   "execution_count": 22,
   "id": "c1bfc494",
   "metadata": {},
   "outputs": [
    {
     "name": "stdout",
     "output_type": "stream",
     "text": [
      "Welcome to this notebook\n",
      "4\n",
      "Hello world\n"
     ]
    }
   ],
   "source": [
    "def main_welcome(func,lst):\n",
    "    def sub_welcome_method():\n",
    "        print(\"Welcome to this notebook\")\n",
    "        print(func(lst))\n",
    "        print(\"Hello world\")\n",
    "    return sub_welcome_method()\n",
    "\n",
    "main_welcome(len,[1,2,3,4])  # len replaces func and the list becomes its argument"
   ]
  },
  {
   "cell_type": "code",
   "execution_count": 23,
   "id": "435fe62f",
   "metadata": {},
   "outputs": [],
   "source": [
    "### Decorator \n",
    "\n",
    "def main_welcome(func):\n",
    "    def sub_welcome_method():\n",
    "        print(\"Welcome to this notebook\")\n",
    "        func()\n",
    "        print(\"Hello world\")\n",
    "    return sub_welcome_method()"
   ]
  },
  {
   "cell_type": "code",
   "execution_count": 25,
   "id": "336ea61c",
   "metadata": {},
   "outputs": [
    {
     "name": "stdout",
     "output_type": "stream",
     "text": [
      "this is a jupyter notebook\n"
     ]
    }
   ],
   "source": [
    "def notes_introduction(): \n",
    "    print(\"this is a jupyter notebook\")\n",
    "\n",
    "notes_introduction()"
   ]
  },
  {
   "cell_type": "code",
   "execution_count": 26,
   "id": "2f8168a9",
   "metadata": {},
   "outputs": [
    {
     "name": "stdout",
     "output_type": "stream",
     "text": [
      "Welcome to this notebook\n",
      "this is a jupyter notebook\n",
      "Hello world\n"
     ]
    }
   ],
   "source": [
    "main_welcome(notes_introduction)"
   ]
  },
  {
   "cell_type": "code",
   "execution_count": null,
   "id": "0c63cfdd",
   "metadata": {},
   "outputs": [
    {
     "name": "stdout",
     "output_type": "stream",
     "text": [
      "Welcome to this notebook\n",
      "this is a jupyter notebook\n",
      "Hello world\n"
     ]
    }
   ],
   "source": [
    "@main_welcome # <- this is how you write a decorator\n",
    "def notes_introduction(): \n",
    "    print(\"this is a jupyter notebook\")\n",
    "    \n",
    "    # whenever you write the decorator it means the function we provide under it goes inside the decorator as a parameter"
   ]
  },
  {
   "cell_type": "code",
   "execution_count": 34,
   "id": "68fc7295",
   "metadata": {},
   "outputs": [],
   "source": [
    "# decorators with arguments \n",
    "\n",
    "def repeat(n): \n",
    "    def decorator(func):\n",
    "        def wrapper(*args,**kwargs):\n",
    "            for _ in range(n):\n",
    "                func(*args,**kwargs)\n",
    "        return wrapper\n",
    "    return decorator"
   ]
  },
  {
   "cell_type": "code",
   "execution_count": 35,
   "id": "08eb171a",
   "metadata": {},
   "outputs": [],
   "source": [
    "@repeat(3)\n",
    "def hi():\n",
    "    print(\"Hello\")"
   ]
  },
  {
   "cell_type": "code",
   "execution_count": 36,
   "id": "8cd4f0ce",
   "metadata": {},
   "outputs": [
    {
     "name": "stdout",
     "output_type": "stream",
     "text": [
      "Hello\n",
      "Hello\n",
      "Hello\n"
     ]
    }
   ],
   "source": [
    "hi()"
   ]
  },
  {
   "cell_type": "markdown",
   "id": "1e6f11f9",
   "metadata": {},
   "source": [
    "### Conclusion \n",
    "\n",
    "Decorators are a powerful tool in python for extending and modifying the behavior of functions and methods. They provide a clean and readable way to add functionality such as logging, timing, access control and more without changing the original code."
   ]
  }
 ],
 "metadata": {
  "kernelspec": {
   "display_name": "ai_gen",
   "language": "python",
   "name": "python3"
  },
  "language_info": {
   "codemirror_mode": {
    "name": "ipython",
    "version": 3
   },
   "file_extension": ".py",
   "mimetype": "text/x-python",
   "name": "python",
   "nbconvert_exporter": "python",
   "pygments_lexer": "ipython3",
   "version": "3.11.0"
  }
 },
 "nbformat": 4,
 "nbformat_minor": 5
}
