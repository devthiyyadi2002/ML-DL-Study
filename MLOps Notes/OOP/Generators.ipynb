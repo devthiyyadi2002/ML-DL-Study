{
 "cells": [
  {
   "cell_type": "markdown",
   "id": "f7f25671",
   "metadata": {},
   "source": [
    "Generators \n",
    "\n",
    "Generators are a simpler way to create iterators. They use the yield keyword to produce a series of values lazily, which means they generate values on the fly and do not store them in memory.\n"
   ]
  },
  {
   "cell_type": "code",
   "execution_count": 2,
   "id": "331dc6f3",
   "metadata": {},
   "outputs": [],
   "source": [
    "def square(n):\n",
    "    for i in range(3):\n",
    "        yield i**2 # yield keyword creates a local variable and save it as well "
   ]
  },
  {
   "cell_type": "code",
   "execution_count": 3,
   "id": "806555b9",
   "metadata": {},
   "outputs": [
    {
     "data": {
      "text/plain": [
       "<generator object square at 0x00000138BEC43780>"
      ]
     },
     "execution_count": 3,
     "metadata": {},
     "output_type": "execute_result"
    }
   ],
   "source": [
    "square(3)"
   ]
  },
  {
   "cell_type": "code",
   "execution_count": 4,
   "id": "d7799771",
   "metadata": {},
   "outputs": [
    {
     "name": "stdout",
     "output_type": "stream",
     "text": [
      "0\n",
      "1\n",
      "4\n"
     ]
    }
   ],
   "source": [
    "for i in square(3):\n",
    "    print(i)"
   ]
  },
  {
   "cell_type": "code",
   "execution_count": 12,
   "id": "197bed25",
   "metadata": {},
   "outputs": [
    {
     "data": {
      "text/plain": [
       "<generator object square at 0x00000138BF2636B0>"
      ]
     },
     "execution_count": 12,
     "metadata": {},
     "output_type": "execute_result"
    }
   ],
   "source": [
    "a = square(3)\n",
    "a"
   ]
  },
  {
   "cell_type": "code",
   "execution_count": null,
   "id": "491a50e5",
   "metadata": {},
   "outputs": [
    {
     "data": {
      "text/plain": [
       "0"
      ]
     },
     "execution_count": 13,
     "metadata": {},
     "output_type": "execute_result"
    }
   ],
   "source": [
    "next(a) # hit output every time for it to show different values of the iteration each time"
   ]
  },
  {
   "cell_type": "markdown",
   "id": "e9210c58",
   "metadata": {},
   "source": [
    "### Practical Example : Reading Large Files \n",
    "\n",
    "Generators are particularly useful for reading large files because they allow you to process one line at a time wihtout loading large files intp memory."
   ]
  },
  {
   "cell_type": "code",
   "execution_count": 15,
   "id": "7f4a198f",
   "metadata": {},
   "outputs": [],
   "source": [
    "# Practical Application : Reading Large Files \n",
    "\n",
    "def read_large_file(file_path):\n",
    "    with open(file_path,'r') as file:\n",
    "        for line in file: \n",
    "            yield line"
   ]
  },
  {
   "cell_type": "code",
   "execution_count": 17,
   "id": "d7e218f9",
   "metadata": {},
   "outputs": [
    {
     "name": "stdout",
     "output_type": "stream",
     "text": [
      "Beneath the quiet hum of the city, life unfolds in small, unnoticed patterns â€”\n",
      "\n",
      "the flicker of a cafÃ© sign, the soft rhythm of footsteps on rain-soaked pavement,\n",
      "\n",
      "the echo of laughter drifting between buildings. Every moment, however ordinary,\n",
      "\n",
      "carries the weight of countless stories overlapping in time. Itâ€™s in these fleeting intersections that meaning often hides,\n",
      "\n",
      "waiting to be found by anyone who stops long enough to see it.\n"
     ]
    }
   ],
   "source": [
    "file_path = 'large_file.txt'\n",
    "\n",
    "for line in read_large_file(file_path):\n",
    "    print(line.strip())"
   ]
  },
  {
   "cell_type": "markdown",
   "id": "30805919",
   "metadata": {},
   "source": [
    "The above output was not saved into memory"
   ]
  }
 ],
 "metadata": {
  "kernelspec": {
   "display_name": "ai_gen",
   "language": "python",
   "name": "python3"
  },
  "language_info": {
   "codemirror_mode": {
    "name": "ipython",
    "version": 3
   },
   "file_extension": ".py",
   "mimetype": "text/x-python",
   "name": "python",
   "nbconvert_exporter": "python",
   "pygments_lexer": "ipython3",
   "version": "3.11.0"
  }
 },
 "nbformat": 4,
 "nbformat_minor": 5
}
