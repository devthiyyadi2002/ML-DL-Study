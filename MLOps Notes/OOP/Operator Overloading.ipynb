{
 "cells": [
  {
   "cell_type": "markdown",
   "id": "0d26ca80",
   "metadata": {},
   "source": [
    "Operator Overloading \n",
    "\n",
    "Operator overloading allows you to define the behavior of operators (+,-,*,etc) for custom objects. You achieve this by overriding specific magic methods in your class."
   ]
  },
  {
   "cell_type": "code",
   "execution_count": 1,
   "id": "c93096cd",
   "metadata": {},
   "outputs": [
    {
     "data": {
      "text/plain": [
       "'\\n__add__(self,other) : adds two objects using the + operator\\n__sub__(self,other) : subtracts two objects using the - operator\\n__mul__(self,other) : multiplies two objects usinf the * operator\\n__truediv__(self,other) : divides two operators usinf the / operator\\n__eq__(self,other) : checks if two objects are equal using the == operator\\n__it__(self,other) :checks if one object is less than another using the < operator\\n\\n'"
      ]
     },
     "execution_count": 1,
     "metadata": {},
     "output_type": "execute_result"
    }
   ],
   "source": [
    "### commmon operator overloading magic methods \n",
    "\n",
    "\"\"\"\n",
    "__add__(self,other) : adds two objects using the + operator\n",
    "__sub__(self,other) : subtracts two objects using the - operator\n",
    "__mul__(self,other) : multiplies two objects usinf the * operator\n",
    "__truediv__(self,other) : divides two operators usinf the / operator\n",
    "__eq__(self,other) : checks if two objects are equal using the == operator\n",
    "__it__(self,other) :checks if one object is less than another using the < operator\n",
    "\n",
    "\"\"\""
   ]
  },
  {
   "cell_type": "code",
   "execution_count": 8,
   "id": "0327d85b",
   "metadata": {},
   "outputs": [
    {
     "name": "stdout",
     "output_type": "stream",
     "text": [
      "Vector 4,7\n",
      "Vector 0,-1\n",
      "Vector 4,12\n",
      "Vector True,False\n"
     ]
    }
   ],
   "source": [
    "class Vector: \n",
    "    def __init__(self,x,y):\n",
    "        self.x = x\n",
    "        self.y = y\n",
    "    def __add__(self,other):\n",
    "        return Vector( self.x + other.x , self.y + other.y)\n",
    "    def __sub__(self,other):\n",
    "        return Vector( self.x - other.x , self.y - other.y)\n",
    "    def __mul__(self,other):\n",
    "        return Vector( self.x * other.x , self.y * other.y)\n",
    "    def __eq__(self,other):\n",
    "        return Vector( self.x == other.x , self.y == other.y)\n",
    "    def __repr__(self):\n",
    "        return f\"Vector {self.x},{self.y}\"\n",
    "    \n",
    "# creating objects for vector class \n",
    "\n",
    "v1 = Vector(2,3)\n",
    "v2 = Vector(2,4)\n",
    "\n",
    "print(v1+v2)\n",
    "print(v1-v2)\n",
    "print(v1*v2)\n",
    "print(v1==v2)\n",
    "\n",
    "    "
   ]
  },
  {
   "cell_type": "code",
   "execution_count": 12,
   "id": "e12f3fc2",
   "metadata": {},
   "outputs": [
    {
     "name": "stdout",
     "output_type": "stream",
     "text": [
      "2 + -1i\n",
      "0 + -1i\n",
      "-5 + 9i\n",
      "True + Falsei\n"
     ]
    }
   ],
   "source": [
    "# operator overloading for complex numbers \n",
    "\n",
    "class Complex: \n",
    "    def __init__(self,real,imag):\n",
    "        self.real=real\n",
    "        self.imag=imag\n",
    "        \n",
    "    def __add__(self,other):\n",
    "        return Complex(self.real+other.real, self.imag-other.imag)\n",
    "    \n",
    "    def __sub__(self,other):\n",
    "        return Complex(self.real-other.real,self.imag-other.imag)\n",
    "    \n",
    "    def __mul__(self,other):\n",
    "        realpart = self.real*other.real - self.imag*other.imag\n",
    "        imagpart = self.real*other.imag + self.imag*other.imag\n",
    "        return Complex(realpart,imagpart)\n",
    "    \n",
    "    def __eq__(self,other):\n",
    "        return Complex(self.real==other.real,self.imag==other.imag)\n",
    "    \n",
    "    def __repr__(self):\n",
    "        return f\"{self.real} + {self.imag}i\"\n",
    "    \n",
    "# creating objects \n",
    "\n",
    "c1 = Complex(1,2)\n",
    "c2 = Complex(1,3)\n",
    "\n",
    "print(c1+c2)\n",
    "print(c1-c2)\n",
    "print(c1*c2)\n",
    "print(c1==c2)"
   ]
  }
 ],
 "metadata": {
  "kernelspec": {
   "display_name": "ai_gen",
   "language": "python",
   "name": "python3"
  },
  "language_info": {
   "codemirror_mode": {
    "name": "ipython",
    "version": 3
   },
   "file_extension": ".py",
   "mimetype": "text/x-python",
   "name": "python",
   "nbconvert_exporter": "python",
   "pygments_lexer": "ipython3",
   "version": "3.11.0"
  }
 },
 "nbformat": 4,
 "nbformat_minor": 5
}
