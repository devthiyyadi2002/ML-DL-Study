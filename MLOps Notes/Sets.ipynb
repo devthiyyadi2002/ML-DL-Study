{
 "cells": [
  {
   "cell_type": "markdown",
   "id": "0dac27ae",
   "metadata": {},
   "source": [
    "Sets \n",
    "\n",
    "Sets are a built-in data type in python used to store collections of unique items. They are unordered meaning the elements do not follow a specific order, and they do not allow duplicate elements. Sets are useful for membership tests, eliminnating duplicate entries, and performing mathematical set operations like union, intersection, difference and symmetric difference."
   ]
  },
  {
   "cell_type": "code",
   "execution_count": null,
   "id": "34fbc971",
   "metadata": {},
   "outputs": [
    {
     "name": "stdout",
     "output_type": "stream",
     "text": [
      "{1, 2, 3, 4, 5}\n",
      "<class 'set'>\n"
     ]
    }
   ],
   "source": [
    "## create a set \n",
    "\n",
    "my_set = {1,2,3,4,5}\n",
    "\n",
    "print(my_set)\n",
    "print(type(my_set))"
   ]
  },
  {
   "cell_type": "code",
   "execution_count": 1,
   "id": "0a1320d8-9640-414f-baa6-8b107289decd",
   "metadata": {},
   "outputs": [
    {
     "name": "stdout",
     "output_type": "stream",
     "text": [
      "{1, 2, 3, 4, 5}\n"
     ]
    }
   ],
   "source": [
    "set1 = set([1,2,3,4,5]) # set conversion from list \n",
    "print(set1)"
   ]
  },
  {
   "cell_type": "code",
   "execution_count": 8,
   "id": "35ae3ee9-8032-4a5d-9c05-8772707e3666",
   "metadata": {},
   "outputs": [
    {
     "name": "stdout",
     "output_type": "stream",
     "text": [
      "{1, 2, 3, 4, 5, 6, 7, 8}\n"
     ]
    }
   ],
   "source": [
    "# if you pass a list with more recurring values sets will eliminate non unique values \n",
    "set2 = set([1,2,3,4,5,5,6,6,6,7,7,7,8])\n",
    "print(set2)"
   ]
  },
  {
   "cell_type": "code",
   "execution_count": 20,
   "id": "9c1e8e42-c518-4ca7-897c-713e19afd3f0",
   "metadata": {},
   "outputs": [
    {
     "name": "stdout",
     "output_type": "stream",
     "text": [
      "{1, 7}\n",
      "{1}\n"
     ]
    }
   ],
   "source": [
    "# basic set operations \n",
    "\n",
    "# adding  elements\n",
    "set = {1}\n",
    "set.add(7)\n",
    "print(set)\n",
    "\n",
    "# removing elements\n",
    "\n",
    "set.remove(7)\n",
    "print(set)"
   ]
  },
  {
   "cell_type": "code",
   "execution_count": 22,
   "id": "289890a1-fa6a-4b79-aede-60f4b067b78f",
   "metadata": {},
   "outputs": [
    {
     "name": "stdout",
     "output_type": "stream",
     "text": [
      "{1}\n"
     ]
    }
   ],
   "source": [
    "# use discard function to not be bothered by an error even if the element does not exist in the set \n",
    "\n",
    "set.discard(11)\n",
    "print(set)"
   ]
  },
  {
   "cell_type": "code",
   "execution_count": 24,
   "id": "8bc7a83b-0d7f-42da-ad09-2a5d792aef61",
   "metadata": {},
   "outputs": [
    {
     "name": "stdout",
     "output_type": "stream",
     "text": [
      "1\n",
      "set()\n"
     ]
    }
   ],
   "source": [
    "# pop method \n",
    "# removes the first element when used \n",
    "\n",
    "removed_element = set.pop()\n",
    "print(removed_element)\n",
    "print(set)"
   ]
  },
  {
   "cell_type": "code",
   "execution_count": 26,
   "id": "8fdd1d54-1e76-48c2-a9c5-af82574fd845",
   "metadata": {},
   "outputs": [],
   "source": [
    "# to clear all elements from a set \n",
    "\n",
    "set.clear()"
   ]
  },
  {
   "cell_type": "code",
   "execution_count": 3,
   "id": "63ac101b-2742-4099-b184-7403dbb2b79a",
   "metadata": {},
   "outputs": [
    {
     "name": "stdout",
     "output_type": "stream",
     "text": [
      "True\n",
      "False\n"
     ]
    }
   ],
   "source": [
    "# membership test \n",
    "\n",
    "set2 = {1,2,3,4,5}\n",
    "print(2 in set2)\n",
    "print(45 in set2)\n"
   ]
  },
  {
   "cell_type": "code",
   "execution_count": null,
   "id": "7a5f5c72",
   "metadata": {},
   "outputs": [
    {
     "name": "stdout",
     "output_type": "stream",
     "text": [
      "{1, 2, 3, 4, 5, 6, 7}\n",
      "{2, 3, 4, 5, 6}\n",
      "{2, 3, 4, 5, 6}\n",
      "{1}\n"
     ]
    },
    {
     "data": {
      "text/plain": [
       "{1, 7}"
      ]
     },
     "execution_count": 8,
     "metadata": {},
     "output_type": "execute_result"
    }
   ],
   "source": [
    "# mathematical operations \n",
    "\n",
    "set1 = {1,2,3,4,5,6}\n",
    "set2 = {2,3,4,5,6,7}\n",
    "\n",
    "## Union \n",
    "\n",
    "union_set = set1.union(set2)\n",
    "print(union_set)\n",
    "\n",
    "## intersection ( common elements from both sets )\n",
    "\n",
    "intersection_set = set1.intersection(set2)\n",
    "print(intersection_set)\n",
    "\n",
    "\n",
    "## intersection update \n",
    "set1.intersection_update(set2)  # set 1 gets updated with the intersection elements \n",
    "\n",
    "print(set1)\n",
    "\n",
    "## difference \n",
    "\n",
    "set1 = {1,2,3,4,5,6}\n",
    "set2 = {2,3,4,5,6,7}\n",
    "\n",
    "print(set1.difference(set2))  # removes all common elements of set2 from  set1\n",
    "\n",
    "# symetric difference \n",
    "\n",
    "set1.symmetric_difference(set2) # prints out all unique elements from set 1 and 2"
   ]
  },
  {
   "cell_type": "code",
   "execution_count": null,
   "id": "62eeb5ed",
   "metadata": {},
   "outputs": [
    {
     "name": "stdout",
     "output_type": "stream",
     "text": [
      "False\n",
      "False\n"
     ]
    }
   ],
   "source": [
    "# sets method \n",
    "\n",
    "set1 = {1,2,3}\n",
    "set2 = {3,4,5}\n",
    "\n",
    "## is subset \n",
    "\n",
    "print(set1.issubset(set2))  # check if set1 is present in set 2\n",
    "\n",
    "## is superset \n",
    "\n",
    "print(set1.issuperset(set2)) # check if set2 is present in set 1\n",
    " "
   ]
  },
  {
   "cell_type": "code",
   "execution_count": 11,
   "id": "0c02abc5",
   "metadata": {},
   "outputs": [
    {
     "name": "stdout",
     "output_type": "stream",
     "text": [
      "{'are', ',', 'notes', 'sets', 'we', 'this', 'In', 'discussing', 'about', 'note', 'Sets'}\n"
     ]
    }
   ],
   "source": [
    "# counting unique words in text \n",
    "\n",
    "text = \"In this note we are discussing about sets , Sets notes\"\n",
    "words = text.split()\n",
    "\n",
    "# convert list of words to sets to get unique words \n",
    "\n",
    "unique_words = set(words)\n",
    "print(unique_words)"
   ]
  }
 ],
 "metadata": {
  "kernelspec": {
   "display_name": "mlops",
   "language": "python",
   "name": "python3"
  },
  "language_info": {
   "codemirror_mode": {
    "name": "ipython",
    "version": 3
   },
   "file_extension": ".py",
   "mimetype": "text/x-python",
   "name": "python",
   "nbconvert_exporter": "python",
   "pygments_lexer": "ipython3",
   "version": "3.11.0"
  }
 },
 "nbformat": 4,
 "nbformat_minor": 5
}
