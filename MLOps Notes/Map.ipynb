{
 "cells": [
  {
   "cell_type": "markdown",
   "id": "7a10b16c",
   "metadata": {},
   "source": [
    "Map Function\n",
    "\n",
    "The map() function applies a given function to all the items in an input list or any uterable and returns a map object. This is particularly useful for tranforming data in a list comprehension.\n"
   ]
  },
  {
   "cell_type": "code",
   "execution_count": null,
   "id": "ea37e103",
   "metadata": {},
   "outputs": [
    {
     "name": "stdout",
     "output_type": "stream",
     "text": [
      "[1, 4, 9, 16, 25]\n",
      "[1, 4, 9, 16, 25]\n"
     ]
    }
   ],
   "source": [
    "# mapping single iterable\n",
    "\n",
    "def square(x):\n",
    "    return x * x\n",
    "\n",
    "numbers = [1, 2, 3, 4, 5]\n",
    "\n",
    "a = map(square, numbers)\n",
    "print(list(a))\n",
    "\n",
    "\n",
    "print(list(map(lambda x:x*x, numbers))) # can easily be written in one line "
   ]
  },
  {
   "cell_type": "code",
   "execution_count": 20,
   "id": "d80ff130",
   "metadata": {},
   "outputs": [
    {
     "name": "stdout",
     "output_type": "stream",
     "text": [
      "[4, 6, 8]\n"
     ]
    }
   ],
   "source": [
    "# mapping multiple iterables \n",
    "\n",
    "numbers1 = [1,2,3]\n",
    "numbers2 = [3,4,5]\n",
    "\n",
    "added_numbers = list(map(lambda x,y:x+y,numbers1,numbers2))\n",
    "print(added_numbers)\n"
   ]
  },
  {
   "cell_type": "code",
   "execution_count": null,
   "id": "12919cb8",
   "metadata": {},
   "outputs": [
    {
     "name": "stdout",
     "output_type": "stream",
     "text": [
      "[1, 2, 3]\n"
     ]
    }
   ],
   "source": [
    "## map function to change list of numbers to strings or vice versa \n",
    "\n",
    "str_numbers = ['1','2','3']\n",
    "\n",
    "int_numbers = list(map(int,str_numbers))\n",
    "\n",
    "print(int_numbers)\n"
   ]
  },
  {
   "cell_type": "code",
   "execution_count": null,
   "id": "7f81208c",
   "metadata": {},
   "outputs": [
    {
     "name": "stdout",
     "output_type": "stream",
     "text": [
      "['APPLE', 'MANGOES']\n"
     ]
    }
   ],
   "source": [
    "# capitallize words \n",
    "\n",
    "words = ['apple','mangoes']\n",
    "\n",
    "caps = list(map(str.upper,words))\n",
    "\n",
    "print(caps)"
   ]
  },
  {
   "cell_type": "code",
   "execution_count": 24,
   "id": "e3c5e77e",
   "metadata": {},
   "outputs": [
    {
     "data": {
      "text/plain": [
       "['Krish', 'Jack']"
      ]
     },
     "execution_count": 24,
     "metadata": {},
     "output_type": "execute_result"
    }
   ],
   "source": [
    "# retrieve names from a list of key value pairs \n",
    "\n",
    "def get_name(person):\n",
    "    return person['name']\n",
    "\n",
    "people = [\n",
    "    {'name':'Krish' , 'age':32},\n",
    "    {'name':'Jack', 'age':34}\n",
    "]\n",
    "\n",
    "list(map(get_name,people))"
   ]
  },
  {
   "cell_type": "markdown",
   "id": "91fd3d43",
   "metadata": {},
   "source": [
    "Conclusion \n",
    "\n",
    "The map() function is a powerful tool for applying transformations to iterable data structures. It can be used with regular functions, lambda functions, and even multiple iterables, providing a versatile appraoch to data processing in python."
   ]
  }
 ],
 "metadata": {
  "kernelspec": {
   "display_name": "ai_gen",
   "language": "python",
   "name": "python3"
  },
  "language_info": {
   "codemirror_mode": {
    "name": "ipython",
    "version": 3
   },
   "file_extension": ".py",
   "mimetype": "text/x-python",
   "name": "python",
   "nbconvert_exporter": "python",
   "pygments_lexer": "ipython3",
   "version": "3.11.0"
  }
 },
 "nbformat": 4,
 "nbformat_minor": 5
}
